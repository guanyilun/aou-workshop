{
 "cells": [
  {
   "cell_type": "markdown",
   "metadata": {
    "id": "tC_8smeEVrcG"
   },
   "source": [
    "# Using Globular Clusters to Estimate the Age of the Universe\n",
    "\n",
    "#### Authors: Daniella Morrone and Aryanna Schiebelbein\n",
    "#### Editors: Simran Nerval, Yilun Guan\n"
   ]
  },
  {
   "cell_type": "markdown",
   "metadata": {
    "id": "X_vKnFjqWsN5"
   },
   "source": [
    "\n",
    "### Objectives\n",
    "*   Use real astronomical data to determine the age of a globular cluster\n",
    "*   Use this age as a lower limit on the age of the universe\n",
    "* Understand why globular clusters are an ideal tool for this\n",
    "\n"
   ]
  },
  {
   "cell_type": "markdown",
   "metadata": {
    "id": "1OcVorHXWvNU"
   },
   "source": [
    "### Introduction\n",
    "---\n",
    "---\n",
    "<div>\n",
    "<img src=\"https://cdn.spacetelescope.org/archives/images/screen/potw1449a.jpg\" width=\"500\"/>\n",
    "</div>\n",
    "\n",
    "**Figure (1)**. Hubble image of the globular cluster Messier 92. This cluster is one of the oldest and brightest clusters in the Milky Way and is actually visible to the naked eye in ideal conditions.\n",
    "(Source: [ESA/Hubble](https://esahubble.org/images/potw1449a/ ))\n",
    "---\n",
    "---\n",
    "\n",
    "Globular clusters are dense, spherical collections of up to millions of stars that are all bound together by gravity. These are some of the oldest stars in the universe and therefore must have formed a long time ago.\n",
    "\n",
    "These collections of stars are incredibly useful to astronomers. It can be assumed that all the stars in a cluster formed at around the same time. Stars form when gigantic clouds of molecular gas (clouds that are cool enough that they are mostly made of molecules as opposed to ions) condense gravitationally, so all of the stars in a globular cluster formed from the same gas at around the same time. These stars were not all identical though, having different masses. Thus we can use this collection of similar aged stars to see how different stars evolve!\n",
    "\n",
    "As you will learn in this activity, we can use the evolution of stars in a globular cluster to figure out the age of the cluster. You will do this for your choice of globular cluster and thus put a lower limit on the age of the universe!\n",
    "\n",
    "Source: [ESA/Hubble]( https://esahubble.org/wordbank/globular-cluster/#:~:text=Globular%20clusters%20are%20stable%2C%20tightly,and%20are%20tightly%20gravitationally%20bound. )"
   ]
  },
  {
   "cell_type": "markdown",
   "metadata": {
    "id": "S1yKgPGGjWVC"
   },
   "source": [
    "### Getting Data\n",
    "\n",
    "We will be using data from the Gaia mission. This spacecraft launched in 2013 and one of its main objectives is to chart a 3D map of the sky, meaning it precisely measures where stars are on the sky and also determines how far away they are.\n",
    "\n",
    "---\n",
    "---\n",
    "\n",
    "<div>\n",
    "<img src=\"https://solarsystem.nasa.gov/rails/active_storage/blobs/redirect/eyJfcmFpbHMiOnsibWVzc2FnZSI6IkJBaHBBbE03IiwiZXhwIjpudWxsLCJwdXIiOiJibG9iX2lkIn19--d3d1efe13bdf454970202160527a06154cc93406/Gaia_mapping_the_stars_of_the_Milky_Way-900x597.jpg?disposition=inline\" width=\"400\"/>\n",
    "</div>\n",
    "\n",
    "**Figure (2)**. An artist's rendition of the Gaia spacecraft.\n",
    "(Source: [ESA](https://solarsystem.nasa.gov/missions/gaia/in-depth/))\n",
    "---\n",
    "---\n",
    "It uses the concept of parallax to determine distance to stars in our galaxy. Parallax uses only simple trigonometry! It is just the fact that an object looks displaced when it is viewed from a different point of view. To show this to yourself, hold your thumb out at arms length and look at it through only one eye. Then switch eyes, and the postion of your thumb changes. That angle over which is changes is parallax! This exact same concept is used in the solar system as you can see in the below figure.\n",
    "\n",
    "---\n",
    "---\n",
    "\n",
    "<div>\n",
    "<img src=\"https://cdn.mos.cms.futurecdn.net/se4zHDiwnrQn5zHttUAAbK-1920-80.jpg.webp\" width=\"700\"/>\n",
    "</div>\n",
    "\n",
    "**Figure (3)**. An illustration of how parallax can determine distances to distant stars. An astronomical unit is the average distance from the Earth to the Sun and is about 150 million km.\n",
    "\n",
    "(Source: ESA)\n",
    "---\n",
    "---\n",
    "\n",
    "Recall from your math classes that the triangles shown above can be described by the equation\n",
    "\n",
    "$$\\tan{p} = \\frac{\\text{opposite}}{\\text{adjacent}} = \\frac{1 AU}{d}$$\n",
    "\n",
    "where $p$ is the parallax angle, $1 AU$ is the distance between the Earth and Sun, and $d$ is the distance to another star that we want to know. Note that as per Figure 3, the \"opposite\" line is the distance between the Earth and the Sun ($1 AU$), and the \"adjacent\" line is the dashed line between the Sun and the star.\n",
    "\n",
    "Using this formula, we can measure the parallax after the Earth does half a rotation around the sun, since this gives the most different points of view to the distant star, and we know what 1 AU is, so we can solve for d!\n",
    "\n",
    "Gaia also measure a lot of other things, such as how bright stars look in different wavelengths and proper motions which is how fast stars look like they are moving across the sky which can be seen after many years of observations.\n",
    "\n",
    "Source: [Gaia](https://sci.esa.int/web/gaia)"
   ]
  },
  {
   "cell_type": "markdown",
   "metadata": {
    "id": "a3WcRFpgUGPr"
   },
   "source": [
    "You are going to use real data from Gaia to estimate the age of a globular cluster, and therefore the age of the universe.\n",
    "\n",
    "Below is a short list of some examples of globular clusters. Their name, position on the sky, and size on the sky are given. You will use this information to grab data from Gaia.\n",
    "\n",
    "| Name     | RA  [deg]      | DEC  [deg]     | Size [arcmin] |\n",
    "|----------|-----------|-----------|------|\n",
    "| M22 | 279.1 | -23.9047 |    32  |\n",
    "| M92 |259.2792 | 43.1358 |    14  |\n",
    "| Pal 5    | 229.02208 | -0.11139  | 10.3     |\n",
    "\n",
    "**Table (1)**. Globular cluster information.\n",
    "\n",
    "Coordinates on the sky are defined in degrees and an arcminute is 1/60 of a degree.\n",
    "\n",
    "---\n",
    "---\n",
    "![image.png](https://astronomy.swin.edu.au/cms/cpg15x/albums/userpics/equatorialcoordinatesystem2.gif)\n",
    "\n",
    "**Figure (4)**. An object's location on the sky is described by it's right ascension and declination. Right ascension ranges from 0$^\\circ$ to 360$^\\circ$ and declination ranges from +90$^\\circ$ at the north pole to 0$^\\circ$ at the equator and finally to -90$^\\circ$ at the south pole.\n",
    "(Source: [The SAO Encyclodpedia of Astronomy](https://astronomy.swin.edu.au/cosmos/e/equatorial+coordinate+system))\n",
    "\n",
    "---\n",
    "---\n",
    "\n",
    "\n",
    "We will be using the Python packages astropy and astroquery to get the data! These are used all the time by some astronomers. Astroquery will allow us to pull data from many different datasets directly into our notebook. This means we don't have to go through the hassle of going to a website, downloading the data (which could take up a lot of space), and then uploading it here. If you are curious, the website to download Gaia data is [here](https://gea.esac.esa.int/archive/)\n",
    "\n",
    "Astropy has many tools but the ones we are using here just keep track of our coordinates and units."
   ]
  },
  {
   "cell_type": "markdown",
   "metadata": {
    "id": "0zHVsxyP7SpN"
   },
   "source": [
    "Since we gave you the information for 3 clusters, we will take you through getting the age of one in full. Then you fill do the other two and use the information we find to estimate the age of the universe!"
   ]
  },
  {
   "cell_type": "code",
   "execution_count": null,
   "metadata": {
    "id": "EqBBBoRO7hvv"
   },
   "outputs": [],
   "source": [
    "from astroquery.gaia import Gaia # This allows us to access Gaia data without having to leave the notebook\n",
    "import astropy.units as u # This is how the astropy package tracks units, like degrees and arcminutes\n",
    "from astropy.coordinates import SkyCoord # This is how the astropy package defines coordinates\n",
    "import matplotlib.pyplot as plt # this allows us to make graphs\n",
    "import numpy as np\n",
    "\n",
    "Gaia.ROW_LIMIT = -1 # This allows our search to have an unlimited number of rows"
   ]
  },
  {
   "cell_type": "markdown",
   "metadata": {
    "id": "4mRieoq2r7nq"
   },
   "source": [
    "\n",
    "---\n",
    "---\n",
    "\n",
    "# M22 Cluster -- Example + Information\n",
    "| Name     | RA  [deg]      | DEC  [deg]     | Size [arcmin] |\n",
    "|----------|-----------|-----------|------|\n",
    "| M22 | 279.1 | -23.9047 |    32  |\n",
    "\n",
    "Be sure to run each of these cells and read the comments!"
   ]
  },
  {
   "cell_type": "code",
   "execution_count": null,
   "metadata": {
    "colab": {
     "base_uri": "https://localhost:8080/"
    },
    "id": "br0quVVwVeQ8",
    "outputId": "aacdfe84-e4f9-490e-dfd5-4f9cd532f9b0"
   },
   "outputs": [],
   "source": [
    "### Now we are defining the coordinate where we are going to search. Notice that we am setting the 'ra' and 'dec' variables to what was given for M22 in\n",
    "### the above table. Choose one of the other two and change the coordinates!\n",
    "### We also are defining a width and a height, this is for the area around our coordinate that we will search. I have set it slightly larger than the size given\n",
    "### in the table. Change this also to match your globular cluster of choice.\n",
    "\n",
    "coord = SkyCoord(ra=279.1, dec=-23.9057, unit=(u.degree, u.degree), frame='icrs') # This is the coordinate we are going to focus our search on\n",
    "width = u.Quantity(35, u.arcmin) # This is the width of the box we will search over, it is slightly wider than the size of the cluster\n",
    "height = u.Quantity(35, u.arcmin) # Likewise, this is the height of the box around the coordinate we will search over\n",
    "\n",
    "search = Gaia.query_object_async(coordinate=coord, width=width, height=height) # This is the line where we submit our search for objects in the box we defined around the coordinates we specifed\n",
    "# This will take about 3 minutes to run!"
   ]
  },
  {
   "cell_type": "markdown",
   "metadata": {
    "id": "aqqp2h10gk7-"
   },
   "source": [
    "### Cleaning Data\n",
    "Now you have successfully selected data in a defined box around a specified coordinate in the Gaia data archive! Basically you have selected all the stars that Gaia has data for in a square on the sky. However, we aren't quite ready to find the age of this cluster yet. There could be stars in this square of the sky that don't actually belong to the cluster; maybe they are closer or further away in 3D space.\n",
    "\n",
    "So we need to 'clean' the data we just grabbed. There a different ways to do this, but here we are going to use two methods. Stars in a cluster are gravitationally bound and close together. This means their parallaxes should be similar, as well as their proper motions.\n"
   ]
  },
  {
   "cell_type": "code",
   "execution_count": null,
   "metadata": {
    "colab": {
     "base_uri": "https://localhost:8080/",
     "height": 925
    },
    "id": "FXFWY5VsXg5_",
    "outputId": "8f8f29c0-f28c-4705-b745-53ecadc6786f"
   },
   "outputs": [],
   "source": [
    "### In this cell we will decide which stars are in the cluster based on parallax\n",
    "\n",
    "plt.hist(search['parallax'],bins=1000) # Here I am plotting the parallax as a histogram. This is showing what parallaxes are most common. I also specified for there to be 1000 different bins.\n",
    "plt.xlabel('Parallax')\n",
    "plt.ylabel(\"Number of Stars\")\n",
    "plt.xlim(-5,5)\n",
    "plt.show()\n",
    "\n",
    "print(\"Looking by eye, I can see on the plot that most stars have parallaxes around roughly -2 to 3. You could choose to be more generous or more strict.\")\n",
    "\n",
    "plt.hist(search['parallax'],bins=1000) # Here I am plotting the parallax as a histogram. This is showing what parallaxes are most common. I also specified for there to be 1000 different bins.\n",
    "plt.xlabel('Parallax')\n",
    "plt.ylabel(\"Number of Stars\")\n",
    "plt.xlim(-8,8)\n",
    "plt.ylim(0,80000)\n",
    "plt.vlines(x=-2,ymin=0,ymax=80000,color='k',linestyle='--') #I am drawing a vertical line to show our parallax limits\n",
    "plt.vlines(x=3,ymin=0,ymax=80000,color='k',linestyle='--') #I am drawing a vertical line to show our parallax limits\n",
    "plt.show()"
   ]
  },
  {
   "cell_type": "markdown",
   "metadata": {
    "id": "Ihe5BtCJB8v3"
   },
   "source": [
    "If you would prefer to make a more quantitative cut, you can compute the average of the parallaxes since this is approximately the parallax of the\n",
    "globular cluster. Then we can use the standard deviation to select stars within some range of the mean. Standard deviation is a measure of how spread the data typically is from the average. Scientists typically use 3-5 standard deviations to be within an acceptable range. 68% of the data is within 1 standard deviation and 97.7% is within 3 standard deviations. This means we are only getting rid of outliers"
   ]
  },
  {
   "cell_type": "code",
   "execution_count": null,
   "metadata": {
    "colab": {
     "base_uri": "https://localhost:8080/",
     "height": 473
    },
    "id": "q1s5iomRCKmY",
    "outputId": "86c5fba9-befc-48f4-f6f5-aa8178d59543"
   },
   "outputs": [],
   "source": [
    "### I will use the functions np.mean() to find the average, and then np.std() to find the standard deviation of the data\n",
    "average_parallax = np.mean(search['parallax']) #this is the average parallax\n",
    "std_parallax = np.std(search['parallax']) #this is the standard deviation of the parallax\n",
    "print(\"The average parallax of the globular cluster is\",average_parallax,\"and the standard deviation is\",std_parallax)\n",
    "\n",
    "### Now we can use this information to actually choose which data points we want to keep: the stars we think are part of the cluster\n",
    "### Here I will use the mean and standard deviation calculations. We want data with 3 standard deviations from the mean.\n",
    "lowerlimit = average_parallax - 3 * std_parallax\n",
    "upperlimit = average_parallax + 3 * std_parallax\n",
    "\n",
    "###Let's compare this to the cut we made by eye.\n",
    "plt.hist(search['parallax'],bins=1000)\n",
    "plt.xlabel('Parallax')\n",
    "plt.ylabel(\"Number of Stars\")\n",
    "plt.xlim(-8,8)\n",
    "plt.ylim(0,80000)\n",
    "plt.vlines(x=-2,ymin=0,ymax=80000,color='k',linestyle='--',label='By Eye') #I am drawing a vertical line to show our parallax limits we made by eye\n",
    "plt.vlines(x=3,ymin=0,ymax=80000,color='k',linestyle='--') #I am drawing a vertical line to show our parallax limits we made by eye\n",
    "plt.vlines(x=lowerlimit,ymin=0,ymax=80000,color='b',linestyle='--',label='Mean $\\pm$ 3 Standard Deviations') #I am drawing a vertical line to show our parallax limits we made quantitatevly\n",
    "plt.vlines(x=upperlimit,ymin=0,ymax=80000,color='b',linestyle='--') #I am drawing a vertical line to show our parallax limits we made quantitatevly\n",
    "plt.legend()\n",
    "plt.show()"
   ]
  },
  {
   "cell_type": "code",
   "execution_count": null,
   "metadata": {
    "colab": {
     "base_uri": "https://localhost:8080/",
     "height": 455
    },
    "id": "-N4C0FaTETYz",
    "outputId": "2a2c36f6-f178-4a9d-ecd1-a0a0cd5f659f"
   },
   "outputs": [],
   "source": [
    "### Now that we will have cleaned data we will name our data 'cleaned'. We want the cleaned data to be the same as what we called 'search' before but\n",
    "### with parallax within 3 standard deviations from the mean.\n",
    "cleaned = search[search['parallax']<=upperlimit] # get the search data whose parallax is below the upper limit\n",
    "cleaned = cleaned[cleaned['parallax']>=lowerlimit] # notice now we are selecting from our 'cleaned' data, those that are above the lower limit\n",
    "\n",
    "### Now we can plot again to see the cut we made\n",
    "plt.hist(search['parallax'],bins=1000)\n",
    "plt.hist(cleaned['parallax'],bins=50)\n",
    "plt.xlabel('Parallax')\n",
    "plt.ylabel(\"Number of Stars\")\n",
    "plt.xlim(-8,8)\n",
    "plt.ylim(0,80000)\n",
    "plt.vlines(x=-2,ymin=0,ymax=80000,color='k',linestyle='--',label='By Eye') #I am drawing a vertical line to show our parallax limits we made by eye\n",
    "plt.vlines(x=3,ymin=0,ymax=80000,color='k',linestyle='--') #I am drawing a vertical line to show our parallax limits we made by eye\n",
    "plt.vlines(x=lowerlimit,ymin=0,ymax=80000,color='b',linestyle='--',label='Mean $\\pm$ 3 Standard Deviations') #I am drawing a vertical line to show our parallax limits we made quantitatevly\n",
    "plt.vlines(x=upperlimit,ymin=0,ymax=80000,color='b',linestyle='--') #I am drawing a vertical line to show our parallax limits we made quantitatevly\n",
    "plt.legend()\n",
    "plt.show()"
   ]
  },
  {
   "cell_type": "markdown",
   "metadata": {
    "id": "IxXDnWamCQ2M"
   },
   "source": [
    "Now we have selected stars that have parallax (i.e. distance) similar to the globular cluster!\n",
    "\n",
    "Next we will select stars that also seem to be moving with the globular cluster, meaning that their proper motions in right ascension and declination are close to that of the cluster. We will be using a similar approach as above."
   ]
  },
  {
   "cell_type": "code",
   "execution_count": null,
   "metadata": {
    "colab": {
     "base_uri": "https://localhost:8080/",
     "height": 919
    },
    "id": "aV0nKecA8n1e",
    "outputId": "e1ba9edc-1f05-4aaf-c37c-0cc5005ab7c5"
   },
   "outputs": [],
   "source": [
    "### Here, we plot the proper motions in right ascension and declination\n",
    "plt.plot(cleaned['pmdec'],cleaned['pmra'],marker='.',linestyle = '',color='k')\n",
    "plt.xlabel('Proper Motion in Declination')\n",
    "plt.ylabel(\"Proper Motion in Right Ascension\")\n",
    "plt.show()\n",
    "\n",
    "print(\"Again, looking by eye we see that most of the data points have proper motions between -50 to 50 in right ascension and declination.\")\n",
    "\n",
    "plt.plot(cleaned['pmdec'],cleaned['pmra'],marker='.',linestyle = '',color='k')\n",
    "plt.xlabel('Proper Motion in Declination')\n",
    "plt.ylabel(\"Proper Motion in Right Ascension\")\n",
    "plt.vlines(x=-50,ymin=-350,ymax=60,color='k',linestyle='--',label='By Eye') # I am drawing a vertical line to show our propermotion limits we made by eye\n",
    "plt.vlines(x=50,ymin=-350,ymax=60,color='k',linestyle='--')\n",
    "plt.hlines(y=-50,xmin=-350,xmax=110,color='k',linestyle='--') # Next we can do horizontal lines\n",
    "plt.hlines(y=50,xmin=-350,xmax=110,color='k',linestyle='--')\n",
    "plt.legend()\n",
    "plt.show()"
   ]
  },
  {
   "cell_type": "code",
   "execution_count": null,
   "metadata": {
    "colab": {
     "base_uri": "https://localhost:8080/",
     "height": 449
    },
    "id": "MGta-U3_Gpwh",
    "outputId": "4349b064-5463-4ddc-e97a-2fdbd476c047"
   },
   "outputs": [],
   "source": [
    "### We can also use the mean and standard deviation in both right ascension and declination.\n",
    "average_pmra = np.mean(cleaned['pmra']) #this is the average proper motion in right ascension, notice we are using the data we already cleaned for parallax\n",
    "std_pmra = np.std(cleaned['pmra'])\n",
    "average_pmdec = np.mean(cleaned['pmdec']) #now for declination\n",
    "std_pmdec = np.std(cleaned['pmdec'])\n",
    "\n",
    "### Now we can use this information to actually choose which data points we want to keep: the stars we think are part of the cluster\n",
    "### Here I will use the mean and standard deviation calculations. We want data with 3 standard deviations from the mean.\n",
    "lowerlimit_ra = average_pmra - 3 * std_pmra\n",
    "upperlimit_ra = average_pmra + 3 * std_pmra\n",
    "\n",
    "lowerlimit_dec = average_pmdec - 3 * std_pmdec\n",
    "upperlimit_dec = average_pmdec + 3 * std_pmdec\n",
    "\n",
    "###Let's compare this to the cut we made by eye.\n",
    "plt.plot(cleaned['pmdec'],cleaned['pmra'],marker='.',linestyle = '',color='k')\n",
    "plt.xlabel('Proper Motion in Declination')\n",
    "plt.ylabel(\"Proper Motion in Right Ascension\")\n",
    "plt.vlines(x=-50,ymin=-350,ymax=60,color='k',linestyle='--',label='By Eye') # I am drawing a vertical line to show our propermotion limits we made by eye\n",
    "plt.vlines(x=50,ymin=-350,ymax=60,color='k',linestyle='--')\n",
    "plt.hlines(y=-50,xmin=-350,xmax=110,color='k',linestyle='--') # Next we can do horizontal lines\n",
    "plt.hlines(y=50,xmin=-350,xmax=110,color='k',linestyle='--')\n",
    "\n",
    "plt.vlines(x=lowerlimit_dec,ymin=-350,ymax=60,color='b',linestyle='-',label='Mean $\\pm$ 3 Standard Deviations') # I am drawing a vertical line to show our propermotion limits we made by eye\n",
    "plt.vlines(x=upperlimit_dec,ymin=-350,ymax=60,color='b',linestyle='-')\n",
    "plt.hlines(y=lowerlimit_ra,xmin=-350,xmax=110,color='b',linestyle='-') # Next we can do horizontal lines\n",
    "plt.hlines(y=upperlimit_ra,xmin=-350,xmax=110,color='b',linestyle='-')\n",
    "plt.legend()\n",
    "plt.show()"
   ]
  },
  {
   "cell_type": "code",
   "execution_count": null,
   "metadata": {
    "colab": {
     "base_uri": "https://localhost:8080/",
     "height": 449
    },
    "id": "V1k_GpgzH158",
    "outputId": "cc43d6b4-7a11-406d-fc8f-284a81f23ee4"
   },
   "outputs": [],
   "source": [
    "### We make our final cut with the proper motions\n",
    "\n",
    "cleaned = cleaned[cleaned['pmra']<=upperlimit_ra]\n",
    "cleaned = cleaned[cleaned['pmra']>=lowerlimit_ra]\n",
    "cleaned = cleaned[cleaned['pmdec']<=upperlimit_dec]\n",
    "cleaned = cleaned[cleaned['pmdec']>=lowerlimit_dec]\n",
    "\n",
    "###Let's compare this to the original data\n",
    "plt.plot(search['pmdec'],search['pmra'],marker='.',linestyle = '',color='k')\n",
    "plt.plot(cleaned['pmdec'],cleaned['pmra'],marker='.',linestyle = '',color='b',label='Cleaned')\n",
    "plt.xlabel('Proper Motion in Declination')\n",
    "plt.ylabel(\"Proper Motion in Right Ascension\")\n",
    "\n",
    "plt.legend()\n",
    "plt.show()"
   ]
  },
  {
   "cell_type": "markdown",
   "metadata": {
    "id": "-srVPcHTiT8f"
   },
   "source": [
    "Now you have your set of cleaned data, meaning you are more confident that your data only includes stars that are in the cluster you selected. Next we estimate the age, but first some introduction on how that is done!"
   ]
  },
  {
   "cell_type": "markdown",
   "metadata": {
    "id": "f4EQ6WWMruiF"
   },
   "source": [
    "### HR Diagram and Turnoff Point\n",
    "\n",
    "A Hertzsprung–Russell (HR) diagram is a scatter plot of stars, as seen in Figure 5. Plotted with a measure of the star's brightness (also known as absolute magnitude or luminosity) on the Y axis and its colour (also known as stellar classifications or effective temperature) on the X axis, the HR diagram provides a plethora of information about stars.\n",
    "\n",
    "Where a star falls on this plot details certain properties, including its age and where it is in its lifecycle. In Figure 5, the diagonal line across the centre of the plot is called the main-sequence; this is where most stars spend the majority of their life. As stars age, they will turn off the main-sequence and towards other branches of the diagram (i.e. giants and supergiants). Where a group of stars, such as a globular cluster, turns off the main sequence is considered its turnoff point, which can provide an estimate age of the cluster.\n",
    "\n",
    "For example, if a cluster has a turn off point around temperature 30000K (or class O with blue colour), the age of the cluster would be < 40 million years, as per Table 2.\n",
    "Similarly, given a turnoff point around the F class stars (with temperature on the X axis around 6000K), the age of the cluster would be between 5.1 to 9.3 billion years.\n",
    "\n",
    "Note that all temperatures here are in Kelvin (K), which is related to Celcius via: 0 °C + 273.15 = 273.15 K\n",
    "\n",
    "---\n",
    "---\n",
    "\n",
    "<div>\n",
    "<img src=\"https://raw.githubusercontent.com/daniellamorrone/daniellamorrone.github.io/main/images/ms.png\" width=\"400\"/>\n",
    "</div>\n",
    "\n",
    "**Figure (5)**. An example of a Hertzsprung-Russell Diagram. The black lines are examples of where a turnoff point may fall.\n",
    "(Image adapted from a [European Southern Observatory diagram](https://cdn.eso.org/images/screen/eso0728c.jpg).)\n",
    "\n",
    "---\n",
    "---\n",
    "\n",
    "| Spectral Class     | Apparent Colour      | G-R Colour\t     | Luminosity*\t| Temperature**\t     | Turnoff Age\t     |\n",
    "|----------|-----------|-----------|------|---------|-----------|\n",
    "| O | Blue          | -1.0 to -0.5  | > 30,000      | > 30,000      | < 40 million years |\n",
    "| B | Light Blue    | -0.5 to -0.3  | 25,000–30,000 | 10,000–30,000 | 40 million–2.3 billion years |\n",
    "| A | White         | -0.2 to 0.2   | 5-25          | 7,500–10,000  | 2.3–5.1 billion years |\n",
    "| F | Light Yellow  | 0.2 to 0.3    | 1.5-5         | 6,000–7,500   | 5.1–9.3 billion years |\n",
    "| G | Yellow        | 0.3 to 0.6    | 0.6-1.5       | 5,200–6,000   | 9.3–15.6 billion years |\n",
    "| K | Orange        | 0.6 to 1.4    | 0.08-0.6      | 3,700–5,200   | 15.6–49.4 billion years |\n",
    "| M | Red           | 1.4 to 2.0    | < 0.08        | 2,400–3,700   | >49.4 billion years |\n",
    "\n",
    "**Table (2)**. Characteristics of stars in the seven spectral classes. Credit: Carmichael, Romanowsky, & Brodie (2020).\n",
    "\n",
    "\\*The number of times brighter than the Sun.\n",
    "\\**In degrees Kelvin (= Celsius + 273)\n"
   ]
  },
  {
   "cell_type": "markdown",
   "metadata": {
    "id": "V43JOUT3bC_E"
   },
   "source": [
    "### Make your HR Diagram\n",
    "\n",
    "In this section, you will make an HR diagram for your globular cluster and locate its turnoff point.\n",
    "\n",
    "For your HR diagram, the Y axis will be measures apparent magnitude - this is the intrinsic brightness of the stars - and the X axis will be the colour - specifically, what we call the G-R colour.\n",
    "\n",
    "Using the numpy log function (np.log10), find the brightness (also known as absolute magnitude, *M*) of the stars using their apparent magnitude (*m*) and the parallax (*p*) by employing this formula:\n",
    "\n",
    "$$M = m - 5\\times\\log\\left({\\frac{100}{p}}\\right)$$"
   ]
  },
  {
   "cell_type": "code",
   "execution_count": null,
   "metadata": {
    "id": "jJOWbE59tbqP"
   },
   "outputs": [],
   "source": [
    "def get_mag_plx_color(catalog):\n",
    "\n",
    "  # this line takes the apparent magnitude at a specific colour (G) using the 'phot_g_mean_mag' data parameter\n",
    "  # and adjusts for any light scattering, called reddening, by subtracting the 'a_g_val' data parameter\n",
    "  mag = catalog['phot_g_mean_mag'] - catalog['a_g_val']\n",
    "\n",
    "  # this line takes the apparent magnitude at a specific colour (G) using the 'phot_g_mean_mag' data parameter\n",
    "  plx = catalog['parallax']\n",
    "\n",
    "  # this line takes the colour of the stars in the cluster using the 'g_rp' data parameter\n",
    "  # and adjusts for any reddening by subtracting the 'e_bp_min_rp_val' data parameter\n",
    "  colour = catalog['g_rp'] - catalog['e_bp_min_rp_val']\n",
    "\n",
    "  return mag, plx, colour"
   ]
  },
  {
   "cell_type": "code",
   "execution_count": null,
   "metadata": {
    "id": "tuOk24eLmmvh"
   },
   "outputs": [],
   "source": [
    "# calls the above function to yield the apparent magnitude, parallax and colour\n",
    "m, p, colour = get_mag_plx_color(cleaned)"
   ]
  },
  {
   "cell_type": "markdown",
   "metadata": {
    "id": "_53gn_zXRYG2"
   },
   "source": [
    "Define a function to compute the absolute magnitude formula here:"
   ]
  },
  {
   "cell_type": "code",
   "execution_count": null,
   "metadata": {
    "id": "CCsZDPkTRU_y"
   },
   "outputs": [],
   "source": [
    "def abs_mag(m,p):\n",
    "  #takes in parameters of apparent magnitude (m) and parallax (p)\n",
    "  return(m - 5*np.log10(100/p))"
   ]
  },
  {
   "cell_type": "markdown",
   "metadata": {
    "id": "REpNbYVAScSp"
   },
   "source": [
    "Plot the HR diagram:"
   ]
  },
  {
   "cell_type": "code",
   "execution_count": null,
   "metadata": {
    "colab": {
     "base_uri": "https://localhost:8080/",
     "height": 638
    },
    "id": "hVLJUobTm6iB",
    "outputId": "86398a54-42d5-4be9-e9ae-be66c2908dea"
   },
   "outputs": [],
   "source": [
    "plt.figure(figsize=(6,6), dpi=100) #creates the figure, sets the size and the quality\n",
    "plt.plot(colour,\n",
    "         abs_mag(m,p),\n",
    "         color = 'black', linestyle = '', marker = '.', markersize = 1)\n",
    "\n",
    "plt.xlabel('Star Colour')\n",
    "plt.ylabel('Absolute Magnitude')\n",
    "plt.title('H-R Diagram for M22')\n",
    "\n",
    "plt.gca().invert_yaxis()  # this inverts the y axis,\n",
    "                          # making it go from top (lower values) to bottom (higher values)\n",
    "\n",
    "plt.show()"
   ]
  },
  {
   "cell_type": "markdown",
   "metadata": {
    "id": "RmzQnq75r9ii"
   },
   "source": [
    "### Where is the turnoff point on your HR Diagram?\n",
    "\n",
    "Can you find the turnoff point of the globular cluster on your HR diagram? If you are having trouble finding it, try this:\n",
    " - if there are **too few points**, go back to where you query the data and make the the box you're looking within bigger by **increasing the height and width** or be less strict when you are cleaning your data.\n",
    " - if there are **too many points**, go back to where you query the data and make the the box you're looking within smaller by **decreasing the height and width** or be more strict when you are cleaning your data."
   ]
  },
  {
   "cell_type": "code",
   "execution_count": null,
   "metadata": {
    "id": "27ea_guHeUa7"
   },
   "outputs": [],
   "source": [
    "TurnOff_colour = -0.125\n",
    "TurnOff_absM = 2.5"
   ]
  },
  {
   "cell_type": "code",
   "execution_count": null,
   "metadata": {
    "colab": {
     "base_uri": "https://localhost:8080/",
     "height": 600
    },
    "id": "xXeTy-OmeIXF",
    "outputId": "93dad43f-2bda-42d0-a7f1-40f3c06ace5d"
   },
   "outputs": [],
   "source": [
    "### Plotting the H-R diagram again\n",
    "plt.figure(figsize=(6,6), dpi=100) #creates the figure, sets the size and the quality\n",
    "plt.plot(colour,\n",
    "         abs_mag(m,p),\n",
    "         color = 'black', linestyle = '', marker = '.', markersize = 1)\n",
    "\n",
    "plt.xlabel('Star Colour')\n",
    "plt.ylabel('Absolute Magnitude')\n",
    "plt.title('H-R Diagram for M22')\n",
    "\n",
    "plt.gca().invert_yaxis()  # this inverts the y axis,\n",
    "                          # making it go from top (lower values) to bottom (higher values)\n",
    "\n",
    "### Adding a point on the plot for the possible turnoff point\n",
    "plt.plot(TurnOff_colour,\n",
    "         TurnOff_absM,\n",
    "         marker='s',color='r',ms='5',linestyle='',label='Possible Turnoff Point')\n",
    "\n",
    "plt.legend()\n",
    "plt.show()"
   ]
  },
  {
   "cell_type": "markdown",
   "metadata": {
    "id": "Phw3N6LwsEMG"
   },
   "source": [
    "### Match Your Turnoff Point to a Star Classification\n",
    "In this section, you will match the turnoff point you found above to its corresponding stellar classification from Table 2.\n",
    "\n",
    "---\n",
    "*Recall Table 2*:\n",
    "\n",
    "| Spectral Class     | Apparent Colour      | G-R Colour\t     | Luminosity*\t| Temperature**\t     | Turnoff Age\t     |\n",
    "|----------|-----------|-----------|------|---------|-----------|\n",
    "| O | Blue          | -1.0 to -0.5  | > 30,000      | > 30,000      | < 40 million years |\n",
    "| B | Light Blue    | -0.5 to -0.3  | 25,000–30,000 | 10,000–30,000 | 40 million–2.3 billion years |\n",
    "| A | White         | -0.2 to 0.2   | 5-25          | 7,500–10,000  | 2.3–5.1 billion years |\n",
    "| F | Light Yellow  | 0.2 to 0.3    | 1.5-5         | 6,000–7,500   | 5.1–9.3 billion years |\n",
    "| G | Yellow        | 0.3 to 0.6    | 0.6-1.5       | 5,200–6,000   | 9.3–15.6 billion years |\n",
    "| K | Orange        | 0.6 to 1.4    | 0.08-0.6      | 3,700–5,200   | 15.6–49.4 billion years |\n",
    "| M | Red           | 1.4 to 2.0    | < 0.08        | 2,400–3,700   | >49.4 billion years |\n",
    "\n",
    "**Table (2)**. Characteristics of stars in the seven spectral classes. Credit: Carmichael, Romanowsky, & Brodie (2020).\n",
    "\n",
    "\\*The number of times brighter than the Sun.\n",
    "\\**In degrees Kelvin (= Celsius + 273)\n",
    "\n",
    "---\n"
   ]
  },
  {
   "cell_type": "markdown",
   "metadata": {
    "id": "CYidKhXNizXy"
   },
   "source": [
    "From the H-R Diagram for globular cluster M22, the colour at the possible turn-off point is around -0.125. Comparing this to Table 2 gives an approximate turn off age of 2.3 billion years to 5.1 billion years."
   ]
  },
  {
   "cell_type": "code",
   "execution_count": null,
   "metadata": {
    "id": "H75kAIX_sH4s"
   },
   "outputs": [],
   "source": [
    "max_age_M22 = 5.1 # billion years"
   ]
  },
  {
   "cell_type": "markdown",
   "metadata": {
    "id": "ng2O14IjPWQP"
   },
   "source": [
    "What was the turnoff age that you found? As we explore the other globular clusters, this about what this means about the age of the universe."
   ]
  },
  {
   "cell_type": "markdown",
   "metadata": {
    "id": "NMnNfZM09HmB"
   },
   "source": [
    "---\n",
    "---\n",
    "# Do it yourself!\n",
    "\n",
    "Now we move onto the \"do it yourself\" section...\n",
    "\n",
    "Anytime you see <<< >>>, that's where you have to fill in information yourself."
   ]
  },
  {
   "cell_type": "markdown",
   "metadata": {
    "id": "oYNzEXRlwZ3F"
   },
   "source": [
    "\n",
    "---\n",
    "---\n",
    "\n",
    "# M92 Cluster\n",
    "| Name     | RA  [deg]      | DEC  [deg]     | Size [arcmin] |\n",
    "|----------|-----------|-----------|------|\n",
    "| M92 |259.2792 | 43.1358 |    14  |"
   ]
  },
  {
   "cell_type": "code",
   "execution_count": null,
   "metadata": {
    "id": "Tl8z04Ixw8MO"
   },
   "outputs": [],
   "source": [
    "RA = <<< FILL IN RA FROM TABLE >>>\n",
    "DEC = <<< FILL IN DEC FROM TABLE >>>\n",
    "size = <<< FILL IN SIZE FROM TABLE >>>"
   ]
  },
  {
   "cell_type": "code",
   "execution_count": null,
   "metadata": {
    "id": "HI7NZXkxwZ3F"
   },
   "outputs": [],
   "source": [
    "coord = SkyCoord(ra=RA, dec=DEC, unit=(u.degree, u.degree), frame='icrs')\n",
    "### This is the coordinate we are going to focus our search on\n",
    "width = u.Quantity(size + 3, u.arcmin)\n",
    "### This is the width of the box we will search over, it is slightly wider than the size of the cluster\n",
    "height = u.Quantity(size + 3, u.arcmin)\n",
    "### Likewise, this is the height of the box around the coordinate we will search over\n",
    "\n",
    "search = Gaia.query_object_async(coordinate=coord, width=width, height=height) # This is the line where we submit our search for objects in the box we defined around the coordinates we specifed\n",
    "### This will take about several minutes to run!"
   ]
  },
  {
   "cell_type": "markdown",
   "metadata": {
    "id": "8bqvXbFZwZ3G"
   },
   "source": [
    "### Cleaning Data\n",
    "\n",
    "First cleaning by parallax..."
   ]
  },
  {
   "cell_type": "code",
   "execution_count": null,
   "metadata": {
    "id": "OtrJ_JVTyA8z"
   },
   "outputs": [],
   "source": [
    "### Here, we are plotting the parallax as a histogram with 1000 bins.\n",
    "plt.hist(<<< FILL IN THE PARALLAX VALUES FROM THE search VARIABLE >>>,\n",
    "         bins=1000)\n",
    "### This is showing what parallaxes are most common.\n",
    "plt.xlabel('Parallax')\n",
    "plt.ylabel(\"Number of Stars\")\n",
    "plt.xlim(-8,8)\n",
    "plt.show()"
   ]
  },
  {
   "cell_type": "markdown",
   "metadata": {
    "id": "NbX4urbUy53a"
   },
   "source": [
    "Looking at the parallax histogram by eye...\n",
    "\n",
    "Between what range do most of the parallaxes fall on the histogram? What is roughly the maximum of this range? What is the minimum?\n",
    "\n",
    "You could choose to be generous or more strict with these choices."
   ]
  },
  {
   "cell_type": "code",
   "execution_count": null,
   "metadata": {
    "id": "Db6DIn8k1A-Q"
   },
   "outputs": [],
   "source": [
    "min_range = <<< FILL IN THE LOWER LIMIT OF THE RANGE >>>\n",
    "max_range = <<< FILL IN THE UPPER LIMIT OF THE RANGE >>>"
   ]
  },
  {
   "cell_type": "code",
   "execution_count": null,
   "metadata": {
    "id": "5oYTRdFowZ3V"
   },
   "outputs": [],
   "source": [
    "### Here, we are plotting the parallax as a histogram again.\n",
    "plt.hist(<<< FILL IN THE PARALLAX VALUES FROM THE search VARIABLE >>>,\n",
    "         bins=1000)\n",
    "plt.xlabel('Parallax')\n",
    "plt.ylabel(\"Number of Stars\")\n",
    "\n",
    "### Here, we add vertical lines on the histogram to represent our cut range\n",
    "plt.vlines(x = min_range,\n",
    "           ymin=0,ymax=700,color='k',linestyle='--') ### a vertical line to show our minimum parallax limit\n",
    "plt.vlines(x = max_range,\n",
    "           ymin=0,ymax=700,color='k',linestyle='--') ### a vertical line to show our maximum parallax limit\n",
    "\n",
    "plt.ylim(0,700)\n",
    "plt.show()"
   ]
  },
  {
   "cell_type": "markdown",
   "metadata": {
    "id": "6q19xZ3F2ZAb"
   },
   "source": [
    "Looking at the parallax histogram from a more quantitative approach...\n",
    "\n",
    "Use the np.mean() and the np.std() functions to find the average and standard deviation of the parallax data:"
   ]
  },
  {
   "cell_type": "code",
   "execution_count": null,
   "metadata": {
    "id": "t6Tt47Py2X0s"
   },
   "outputs": [],
   "source": [
    "average_parallax = <<< CALL THE MEAN FUNCTION, INPUT PARALLAX DATA FROM THE search VARIABLE >>>\n",
    "std_parallax = <<< CALL THE STANDARD DEVIATION FUNCTION, INPUT PARALLAX DATA FROM THE search VARIABLE >>>\n",
    "\n",
    "print(\"The average parallax of the globular cluster is\",average_parallax)\n",
    "print(\"The parallax standard deviation of the globular cluster is\",std_parallax)"
   ]
  },
  {
   "cell_type": "markdown",
   "metadata": {
    "id": "Me-nUc2a3Hzr"
   },
   "source": [
    "We can use this information to actually choose which data points we want to keep: the stars we think are part of the cluster.\n",
    "\n",
    "Using 3-5 times the standard deviation, we will identify the lower and upper limits:"
   ]
  },
  {
   "cell_type": "code",
   "execution_count": null,
   "metadata": {
    "id": "YyPAxiOt3P6R"
   },
   "outputs": [],
   "source": [
    "n_std = <<< FILL IN A WHOLE NUMBER VALUE BETWEEN 3 AND 5 >>>\n",
    "\n",
    "### Using the mean and standard deviation calculations, we find the limits.\n",
    "### We want data within 3 to 5 (the n_std you choose) standard deviations from the mean.\n",
    "lowerlimit = average_parallax - n_std * std_parallax\n",
    "upperlimit = average_parallax + n_std * std_parallax"
   ]
  },
  {
   "cell_type": "markdown",
   "metadata": {
    "id": "aavViBaH4rUa"
   },
   "source": [
    "Let's compare this quantitative cut to the cut we made by eye.\n"
   ]
  },
  {
   "cell_type": "code",
   "execution_count": null,
   "metadata": {
    "id": "KHyohLJbwZ3W"
   },
   "outputs": [],
   "source": [
    "### Here, we are plotting the parallax as a histogram again.\n",
    "plt.hist(<<< FILL IN THE PARALLAX VALUES FROM THE search VARIABLE >>>,\n",
    "         bins=1000)\n",
    "plt.xlabel('Parallax')\n",
    "plt.ylabel(\"Number of Stars\")\n",
    "plt.xlim(-8,8)\n",
    "\n",
    "### Vertical lines for the cut by eye\n",
    "plt.vlines(x = min_range,\n",
    "           ymin=0,ymax=700,color='k',linestyle='--',label='By Eye') #I am drawing a vertical line to show our parallax limits we made by eye\n",
    "plt.vlines(x = max_range,\n",
    "           ymin=0,ymax=700,color='k',linestyle='--') #I am drawing a vertical line to show our parallax limits we made by eye\n",
    "\n",
    "### Vertical lines for the quantitative cut\n",
    "plt.vlines(x = lowerlimit,\n",
    "           ymin=0,ymax=700,color='b',linestyle='--',label='Mean $\\pm$ {} Standard Deviations'.format(n_std)) #I am drawing a vertical line to show our parallax limits we made quantitatevly\n",
    "plt.vlines(x = upperlimit,\n",
    "           ymin=0,ymax=700,color='b',linestyle='--') #I am drawing a vertical line to show our parallax limits we made quantitatevly\n",
    "\n",
    "plt.legend()\n",
    "plt.ylim(0,700)\n",
    "plt.show()"
   ]
  },
  {
   "cell_type": "markdown",
   "metadata": {
    "id": "xdvoq0q05vDR"
   },
   "source": [
    "Which do you want to use? The cut by eye or the quantitative cut?"
   ]
  },
  {
   "cell_type": "code",
   "execution_count": null,
   "metadata": {
    "id": "RUZW5hp16rPO"
   },
   "outputs": [],
   "source": [
    "cut_up_lim = <<< FILL IN max_range FOR BY EYE, upperlimit FOR QUANTITATIVE >>>\n",
    "cut_low_lim = <<< FILL IN min_range FOR BY EYE, lowerlimit FOR QUANTITATIVE >>>"
   ]
  },
  {
   "cell_type": "markdown",
   "metadata": {
    "id": "TN1nSl7i7OeB"
   },
   "source": [
    "Now that we will have cleaned data we will name our data 'cleaned'. We want the cleaned data to be the same as what we called 'search' before but with parallax within our cut range.\n",
    "\n",
    "We want to get the search data whose parallax is below (<=) the upper limit and above (>=) the lower limit..."
   ]
  },
  {
   "cell_type": "code",
   "execution_count": null,
   "metadata": {
    "id": "-ZF96BJH8qA5"
   },
   "outputs": [],
   "source": [
    "search_parallax = <<< FILL IN THE PARALLAX VALUES FROM THE search VARIABLE >>>\n",
    "\n",
    "cleaned = search[(search_parallax <= cut_up_lim) & (search_parallax >= cut_low_lim)]\n",
    "### notice that we have done two cuts at once, this is possible by using round brackets () around the cuts and '&' between them"
   ]
  },
  {
   "cell_type": "code",
   "execution_count": null,
   "metadata": {
    "id": "5T6BNNuqwZ3W"
   },
   "outputs": [],
   "source": [
    "### Now we can plot again to see the cut we made\n",
    "\n",
    "### Plotting a histogram of the uncleaned parallax values from 'search'\n",
    "plt.hist(<<< FILL IN THE PARALLAX VALUES FROM THE search VARIABLE >>>,\n",
    "         bins=1000)\n",
    "### Plotting a histogram of the cleaned parallax values from 'cleaned'\n",
    "plt.hist(<<< FILL IN THE PARALLAX VALUES FROM THE cleaned VARIABLE >>>,\n",
    "         bins=500)\n",
    "\n",
    "plt.xlabel('Parallax')\n",
    "plt.ylabel(\"Number of Stars\")\n",
    "plt.xlim(-8,8)\n",
    "plt.ylim(0,700)\n",
    "\n",
    "### Vertical lines for the cut\n",
    "plt.vlines(x = cut_low_lim,\n",
    "           ymin=0,ymax=700,color='k',linestyle='--', label='Cut')\n",
    "plt.vlines(x = cut_up_lim,\n",
    "           ymin=0,ymax=700,color='k',linestyle='--')\n",
    "\n",
    "plt.legend()\n",
    "plt.show()"
   ]
  },
  {
   "cell_type": "markdown",
   "metadata": {
    "id": "2rig1WYvwZ3X"
   },
   "source": [
    "We have selected stars that have parallax (i.e. distance) similar to the globular cluster!\n",
    "\n",
    "Now cleaning the proper motions..."
   ]
  },
  {
   "cell_type": "code",
   "execution_count": null,
   "metadata": {
    "id": "AMTxt3zE_l1m"
   },
   "outputs": [],
   "source": [
    "### Here, we make a plot of the proper motion in the declination vs. in the right ascension\n",
    "plt.plot(<<< FILL IN THE DEC. PROPER MOTION FROM THE cleaned VARIABLE >>>,\n",
    "         <<< FILL IN THE RA PROPER MOTION FROM THE cleaned VARIABLE >>>,\n",
    "         marker='.',linestyle = '',color='k')\n",
    "\n",
    "plt.xlabel('Proper Motion in Declination')\n",
    "plt.ylabel(\"Proper Motion in Right Ascension\")\n",
    "plt.show()"
   ]
  },
  {
   "cell_type": "markdown",
   "metadata": {
    "id": "UVfS4Z6mAE3C"
   },
   "source": [
    "Looking at the proper motion plot by eye...\n",
    "\n",
    "Between what range do most of the data points fall? What is roughly the maximum of this range on the declination? What is the minimum? How about for the right ascension?\n",
    "\n",
    "You could choose to be generous or more strict with these choices."
   ]
  },
  {
   "cell_type": "code",
   "execution_count": null,
   "metadata": {
    "id": "bJexFmDwAb2_"
   },
   "outputs": [],
   "source": [
    "### For the declination...\n",
    "min_dec_pm_range = <<< FILL IN THE LOWER LIMIT OF THE RANGE >>>\n",
    "max_dec_pm_range = <<< FILL IN THE UPPER LIMIT OF THE RANGE >>>\n",
    "\n",
    "### For the right ascension...\n",
    "min_ra_pm_range = <<< FILL IN THE LOWER LIMIT OF THE RANGE >>>\n",
    "max_ra_pm_range = <<< FILL IN THE UPPER LIMIT OF THE RANGE >>>"
   ]
  },
  {
   "cell_type": "code",
   "execution_count": null,
   "metadata": {
    "id": "bsIIpTI1wZ3X"
   },
   "outputs": [],
   "source": [
    "### Here, we make the proper motion plot again\n",
    "plt.plot(<<< FILL IN THE DEC. PROPER MOTION FROM THE cleaned VARIABLE >>>,\n",
    "         <<< FILL IN THE RA PROPER MOTION FROM THE cleaned VARIABLE >>>,\n",
    "         marker='.',linestyle = '',color='k')\n",
    "\n",
    "plt.xlabel('Proper Motion in Declination')\n",
    "plt.ylabel(\"Proper Motion in Right Ascension\")\n",
    "\n",
    "### Add vertical lines to represent our cut range for the declination proper motion\n",
    "plt.vlines(x = min_dec_pm_range,\n",
    "           ymin=-60,ymax=45,color='k',linestyle='--',label='By Eye') # I am drawing a vertical line to show our propermotion limits we made by eye\n",
    "plt.vlines(x = max_dec_pm_range,\n",
    "           ymin=-60,ymax=45,color='k',linestyle='--')\n",
    "\n",
    "### Add horizontal lines to represent our cut range for the right ascension proper motion\n",
    "plt.hlines(y = min_ra_pm_range,\n",
    "           xmin=-60,xmax=150,color='k',linestyle='--') # Next we can do horizontal lines\n",
    "plt.hlines(y = max_ra_pm_range,\n",
    "           xmin=-60,xmax=150,color='k',linestyle='--')\n",
    "\n",
    "plt.legend()\n",
    "plt.show()"
   ]
  },
  {
   "cell_type": "markdown",
   "metadata": {
    "id": "NF2dFWRGB-Zd"
   },
   "source": [
    "Looking at the proper motions from a more quantitative approach...\n",
    "\n",
    "Use the np.mean() and the np.std() functions to find the average and standard deviation of the proper motion data:"
   ]
  },
  {
   "cell_type": "code",
   "execution_count": null,
   "metadata": {
    "id": "Np_e_v4ECjBG"
   },
   "outputs": [],
   "source": [
    "### For the declination...\n",
    "average_pmdec = <<< CALL THE MEAN FUNCTION, INPUT DEC PROPER MOTION DATA FROM THE cleaned VARIABLE >>>\n",
    "std_pmdec = <<< CALL THE STANDARD DEVIATION FUNCTION, INPUT DEC PROPER MOTION DATA FROM THE cleaned VARIABLE >>>\n",
    "\n",
    "### For the right ascension...\n",
    "average_pmra = <<< CALL THE MEAN FUNCTION, INPUT RA PROPER MOTION DATA FROM THE cleaned VARIABLE >>>\n",
    "std_pmra = <<< CALL THE STANDARD DEVIATION FUNCTION, INPUT RA PROPER MOTION DATA FROM THE cleaned VARIABLE >>>"
   ]
  },
  {
   "cell_type": "markdown",
   "metadata": {
    "id": "NCfrjmDaCtNn"
   },
   "source": [
    "Again, using 3 to 5 times the standard deviation, we can pick out the data points around the average..."
   ]
  },
  {
   "cell_type": "code",
   "execution_count": null,
   "metadata": {
    "id": "kn--jopQDJ8R"
   },
   "outputs": [],
   "source": [
    "n_std = <<< FILL IN A WHOLE NUMBER VALUE BETWEEN 3 AND 5 >>>\n",
    "\n",
    "### For the declination...\n",
    "lowerlimit_dec = average_pmdec - n_std * std_pmdec\n",
    "upperlimit_dec = average_pmdec + n_std * std_pmdec\n",
    "\n",
    "### For the right ascension...\n",
    "lowerlimit_ra = average_pmra - n_std * std_pmra\n",
    "upperlimit_ra = average_pmra + n_std * std_pmra"
   ]
  },
  {
   "cell_type": "markdown",
   "metadata": {
    "id": "115yX4kLDbO1"
   },
   "source": [
    "Let's compare this quantitative cut to the cut we made by eye."
   ]
  },
  {
   "cell_type": "code",
   "execution_count": null,
   "metadata": {
    "id": "ToA6-qgEwZ3X"
   },
   "outputs": [],
   "source": [
    "### Here, we make the proper motion plot again\n",
    "plt.plot(<<< FILL IN THE DEC. PROPER MOTION FROM THE cleaned VARIABLE >>>,\n",
    "         <<< FILL IN THE RA PROPER MOTION FROM THE cleaned VARIABLE >>>,\n",
    "         marker='.',linestyle = '',color='k')\n",
    "\n",
    "plt.xlabel('Proper Motion in Declination')\n",
    "plt.ylabel(\"Proper Motion in Right Ascension\")\n",
    "\n",
    "### Add vertical lines to represent our cut range for the declination proper motion\n",
    "plt.vlines(x = min_dec_pm_range,\n",
    "           ymin=-60,ymax=45,color='k',linestyle='--',label='By Eye') # I am drawing a vertical line to show our propermotion limits we made by eye\n",
    "plt.vlines(x = max_dec_pm_range,\n",
    "           ymin=-60,ymax=45,color='k',linestyle='--')\n",
    "\n",
    "### Add horizontal lines to represent our cut range for the right ascension proper motion\n",
    "plt.hlines(y = min_ra_pm_range,\n",
    "           xmin=-60,xmax=150,color='k',linestyle='--') # Next we can do horizontal lines\n",
    "plt.hlines(y = max_ra_pm_range,\n",
    "           xmin=-60,xmax=150,color='k',linestyle='--')\n",
    "\n",
    "\n",
    "### Add vertical lines for the quantitative cut in the declination proper motion\n",
    "plt.vlines(x = lowerlimit_dec,\n",
    "           ymin=-60,ymax=45,color='b',linestyle='--',label='Mean $\\pm$ {} Standard Deviations'.format(n_std)) # I am drawing a vertical line to show our propermotion limits we made by eye\n",
    "plt.vlines(x = upperlimit_dec,\n",
    "           ymin=-60,ymax=45,color='b',linestyle='--')\n",
    "\n",
    "### Add horizontal lines for the quantitative cut in the right ascension proper motion\n",
    "plt.hlines(y = lowerlimit_ra,\n",
    "           xmin=-60,xmax=150,color='b',linestyle='--') # Next we can do horizontal lines\n",
    "plt.hlines(y = upperlimit_ra,\n",
    "           xmin=-60,xmax=150,color='b',linestyle='--')\n",
    "\n",
    "plt.legend()\n",
    "plt.show()"
   ]
  },
  {
   "cell_type": "markdown",
   "metadata": {
    "id": "3y937tZkEMYM"
   },
   "source": [
    "Which do you want to use? The cut by eye or the quantitative cut?"
   ]
  },
  {
   "cell_type": "code",
   "execution_count": null,
   "metadata": {
    "id": "zszUs45vENFs"
   },
   "outputs": [],
   "source": [
    "### For the declination...\n",
    "cut_uplim_dec = <<< FILL IN max_dec_pm_range FOR BY EYE, upperlimit_dec FOR QUANTITATIVE >>>\n",
    "cut_lowlim_dec = <<< FILL IN min_dec_pm_range FOR BY EYE, lowerlimit_dec FOR QUANTITATIVE >>>\n",
    "\n",
    "### For the right ascension...\n",
    "cut_uplim_ra = <<< FILL IN max_ra_pm_range FOR BY EYE, upperlimit_ra FOR QUANTITATIVE >>>\n",
    "cut_lowlim_ra = <<< FILL IN min_ra_pm_range FOR BY EYE, lowerlimit_ra FOR QUANTITATIVE >>>"
   ]
  },
  {
   "cell_type": "markdown",
   "metadata": {
    "id": "y-ULSA8KFTV2"
   },
   "source": [
    "Now that we will cut our 'cleaned' data even more using these proper motions cuts.\n",
    "\n",
    "We want to get the data whose proper motions are below (<=) the upper limits and above (>=) the lower limits..."
   ]
  },
  {
   "cell_type": "code",
   "execution_count": null,
   "metadata": {
    "id": "ExjY7UXMFIrX"
   },
   "outputs": [],
   "source": [
    "### For the declination...\n",
    "cleaned = cleaned[<<< FILL IN THE DEC PROPER MOTION FROM THE cleaned VARIABLE >>> <= cut_uplim_dec]\n",
    "cleaned = cleaned[<<< FILL IN THE DEC PROPER MOTION FROM THE cleaned VARIABLE >>> >= cut_lowlim_dec]\n",
    "\n",
    "### For the right ascension...\n",
    "cleaned = cleaned[<<< FILL IN THE RA PROPER MOTION FROM THE cleaned VARIABLE >>> <= cut_uplim_ra]\n",
    "cleaned = cleaned[<<< FILL IN THE RA PROPER MOTION FROM THE cleaned VARIABLE >>> >= cut_lowlim_ra]"
   ]
  },
  {
   "cell_type": "markdown",
   "metadata": {
    "id": "RBMzw19mGtYi"
   },
   "source": [
    "Now let's compare this final cleaned data to our original search data..."
   ]
  },
  {
   "cell_type": "code",
   "execution_count": null,
   "metadata": {
    "id": "gpEDoWcPwZ3Y"
   },
   "outputs": [],
   "source": [
    "### Here we plot the proper motions from the 'search' data\n",
    "plt.plot(<<< FILL IN THE DEC PROPER MOTION FROM THE search VARIABLE >>>,\n",
    "         <<< FILL IN THE RA PROPER MOTION FROM THE search VARIABLE >>>,\n",
    "         marker='.',linestyle = '',color='k')\n",
    "\n",
    "### Here we plot the proper motions from the 'cleaned' data\n",
    "plt.plot(<<< FILL IN THE DEC PROPER MOTION FROM THE cleaned VARIABLE >>>,\n",
    "         <<< FILL IN THE RA PROPER MOTION FROM THE cleaned VARIABLE >>>,\n",
    "         marker='.',linestyle = '',color='b',label='Cleaned')\n",
    "\n",
    "plt.xlabel('Proper Motion in Declination')\n",
    "plt.ylabel(\"Proper Motion in Right Ascension\")\n",
    "\n",
    "plt.legend()\n",
    "plt.show()"
   ]
  },
  {
   "cell_type": "markdown",
   "metadata": {
    "id": "K5NvgkwRwZ3Y"
   },
   "source": [
    "Now you have your set of cleaned data, meaning you are more confident that your data only includes stars that are in the cluster you selected. Next we estimate the age, but first some introduction on how that is done!"
   ]
  },
  {
   "cell_type": "markdown",
   "metadata": {
    "id": "KMy0tSecwZ3Z"
   },
   "source": [
    "### Make your HR Diagram\n",
    "\n",
    "In this section, you will make an HR diagram for your globular cluster and locate its turnoff point.\n",
    "\n",
    "For your HR diagram, the Y axis will be measures apparent magnitude - this is the intrinsic brightness of the stars - and the X axis will be the colour - specifically, what we call the G-R colour.\n",
    "\n",
    "Using the numpy log function (np.log10), find the brightness (also known as absolute magnitude, *M*) of the stars using their apparent magnitude (*m*) and the parallax (*p*) by employing this formula:\n",
    "\n",
    "$$M = m - 5\\times\\log\\left({\\frac{100}{p}}\\right)$$"
   ]
  },
  {
   "cell_type": "markdown",
   "metadata": {
    "id": "0cthIs30HwDr"
   },
   "source": [
    "Recall the ```get_mag_plx_color``` function from above:\n",
    "\n",
    "\n",
    "```\n",
    "apparent_magnitude, parallax, colour = get_mag_plx_color(catalog)\n",
    "```\n",
    "\n",
    "Call this function with the 'cleaned' data catalog to yield the apparent magnitude (m), parallax (p) and colour:"
   ]
  },
  {
   "cell_type": "code",
   "execution_count": null,
   "metadata": {
    "id": "FoDjuLC6wZ3a"
   },
   "outputs": [],
   "source": [
    "m, p, colour = <<< CALL THE get_mag_plx_color FUNCTION WITH THE cleaned DATA >>>"
   ]
  },
  {
   "cell_type": "markdown",
   "metadata": {
    "id": "d14rFawqwZ3a"
   },
   "source": [
    "Recall how we defined the absolute magnitude function (```abs_mag```) from above:\n",
    "```\n",
    "absolute_magnitude = abs_mag(apparent_magnitude, parallax)\n",
    "```\n",
    "Call this function with the parameters of apparent magnitude (m) and parallax (p) to yield the absolute magnitude (M):"
   ]
  },
  {
   "cell_type": "code",
   "execution_count": null,
   "metadata": {
    "id": "ljUCnZ_UwZ3b"
   },
   "outputs": [],
   "source": [
    "M = <<< CALL THE abs_mag FUNCTION WITH m AND p >>>"
   ]
  },
  {
   "cell_type": "markdown",
   "metadata": {
    "id": "qMsHLahlwZ3b"
   },
   "source": [
    "Plot the HR diagram:"
   ]
  },
  {
   "cell_type": "code",
   "execution_count": null,
   "metadata": {
    "id": "alJsgDr2wZ3b"
   },
   "outputs": [],
   "source": [
    "plt.figure(figsize=(6,6), dpi=100) #creates the figure, sets the size and the quality\n",
    "\n",
    "### Plotting the absolute magnitude vs. the colour\n",
    "plt.plot(<<< FILL IN THE colour VARIABLE >>>,\n",
    "         <<< FILL IN THE ABSOLUTE MAGNITUDE VARIABLE >>>,\n",
    "         color = 'black', linestyle = '', marker = '.', markersize = 1)\n",
    "\n",
    "plt.xlabel('Star Colour')\n",
    "plt.ylabel('Absolute Magnitude')\n",
    "plt.title('H-R Diagram for M92')\n",
    "\n",
    "plt.gca().invert_yaxis()  # this inverts the y axis\n",
    "plt.show()"
   ]
  },
  {
   "cell_type": "markdown",
   "metadata": {
    "id": "ifHsMLxXwZ3c"
   },
   "source": [
    "###Where is the turnoff point on your HR Diagram?\n",
    "\n",
    "Can you find the turnoff point of the globular cluster on your HR diagram? If you are having trouble finding it, try this:\n",
    " - if there are **too few points**, go back to where you query the data and make the the box you're looking within bigger by **increasing the height and width** or be less strict when you are cleaning your data.\n",
    " - if there are **too many points**, go back to where you query the data and make the the box you're looking within smaller by **decreasing the height and width** or be more strict when you are cleaning your data."
   ]
  },
  {
   "cell_type": "markdown",
   "metadata": {
    "id": "5F5RQ-WLN1Id"
   },
   "source": [
    "After examining this H-R diagram by eye, where does the turn off point seem to be? What are the approximate colour and magnitude values of this point?"
   ]
  },
  {
   "cell_type": "code",
   "execution_count": null,
   "metadata": {
    "id": "ViNFfJ0GN3Cn"
   },
   "outputs": [],
   "source": [
    "TurnOff_colour = <<< FILL IN THE APPROX. COLOUR VALUE OF THE TURN OFF POINT >>>\n",
    "TurnOff_absM = <<< FILL IN THE APPROX. MAGNITUDE VALUE OF THE TURN OFF POINT >>>"
   ]
  },
  {
   "cell_type": "code",
   "execution_count": null,
   "metadata": {
    "id": "NeseXF7HM3-C"
   },
   "outputs": [],
   "source": [
    "plt.figure(figsize=(6,6), dpi=100) #creates the figure, sets the size and the quality\n",
    "\n",
    "### Plotting the absolute magnitude vs. the colour\n",
    "plt.plot(<<< FILL IN THE colour VARIABLE >>>,\n",
    "         <<< FILL IN THE ABSOLUTE MAGNITUDE VARIABLE >>>,\n",
    "         color = 'black', linestyle = '', marker = '.', markersize = 1)\n",
    "\n",
    "plt.xlabel('Star Colour')\n",
    "plt.ylabel('Absolute Magnitude')\n",
    "plt.title('H-R Diagram for M92')\n",
    "\n",
    "### Plot the approximate turn off point\n",
    "plt.plot(<<< FILL IN THE TurnOff_colour VARIABLE >>>,\n",
    "         <<< FILL IN THE TurnOff_absM VARIABLE >>>,\n",
    "         marker='s',color='r',ms='5',linestyle='',label='Possible Turnoff Point')\n",
    "\n",
    "plt.legend()\n",
    "plt.gca().invert_yaxis()  # this inverts the y axis\n",
    "plt.show()\n"
   ]
  },
  {
   "cell_type": "markdown",
   "metadata": {
    "id": "oFEdir2fwZ3d"
   },
   "source": [
    "### Match Your Turnoff Point to a Star Classification\n",
    "Match the turnoff point you found above to its corresponding stellar classification from Table 2.\n",
    "\n",
    "---\n",
    "*Recall Table 2*:\n",
    "\n",
    "| Spectral Class     | Apparent Colour      | G-R Colour\t     | Luminosity*\t| Temperature**\t     | Turnoff Age\t     |\n",
    "|----------|-----------|-----------|------|---------|-----------|\n",
    "| O | Blue          | -1.0 to -0.5  | > 30,000      | > 30,000      | < 40 million years |\n",
    "| B | Light Blue    | -0.5 to -0.3  | 25,000–30,000 | 10,000–30,000 | 40 million–2.3 billion years |\n",
    "| A | White         | -0.2 to 0.2   | 5-25          | 7,500–10,000  | 2.3–5.1 billion years |\n",
    "| F | Light Yellow  | 0.2 to 0.3    | 1.5-5         | 6,000–7,500   | 5.1–9.3 billion years |\n",
    "| G | Yellow        | 0.3 to 0.6    | 0.6-1.5       | 5,200–6,000   | 9.3–15.6 billion years |\n",
    "| K | Orange        | 0.6 to 1.4    | 0.08-0.6      | 3,700–5,200   | 15.6–49.4 billion years |\n",
    "| M | Red           | 1.4 to 2.0    | < 0.08        | 2,400–3,700   | >49.4 billion years |\n",
    "\n",
    "**Table (2)**. Characteristics of stars in the seven spectral classes. Credit: Carmichael, Romanowsky, & Brodie (2020).\n",
    "\n",
    "\\*The number of times brighter than the Sun.\n",
    "\\**In degrees Kelvin (= Celsius + 273)\n",
    "\n",
    "---\n"
   ]
  },
  {
   "cell_type": "markdown",
   "metadata": {
    "id": "7ZVKxlzjwZ3d"
   },
   "source": [
    "From the H-R Diagram for globular cluster M92, what was the colour at the possible turn-off point? Find the matching colour in Table 2 under the G-R Colour in Table 2. Follow across that row to get the Turnoff Age.\n",
    "\n",
    "What is the maximum possible turnoff age of this cluster from the table?"
   ]
  },
  {
   "cell_type": "code",
   "execution_count": null,
   "metadata": {
    "id": "SNrVfZxBwZ3e"
   },
   "outputs": [],
   "source": [
    "max_age_M92 = <<< FILL IN THE TURNOFF AGE >>> # in units of billion years"
   ]
  },
  {
   "cell_type": "markdown",
   "metadata": {
    "id": "1_3GGfXgPsfB"
   },
   "source": [
    "\n",
    "---\n",
    "---\n",
    "\n",
    "# Pal 5 Cluster\n",
    "| Name     | RA  [deg]      | DEC  [deg]     | Size [arcmin] |\n",
    "|----------|-----------|-----------|------|\n",
    "| Pal 5    | 229.02208 | -0.11139  | 10.3     |"
   ]
  },
  {
   "cell_type": "code",
   "execution_count": null,
   "metadata": {
    "id": "XG1qrigVPsfC"
   },
   "outputs": [],
   "source": [
    "RA = <<< FILL IN RA FROM TABLE >>>\n",
    "DEC = <<< FILL IN DEC FROM TABLE >>>\n",
    "size = <<< FILL IN SIZE FROM TABLE >>>"
   ]
  },
  {
   "cell_type": "code",
   "execution_count": null,
   "metadata": {
    "id": "SnOUCRTkPsfC"
   },
   "outputs": [],
   "source": [
    "coord = SkyCoord(ra=RA, dec=DEC, unit=(u.degree, u.degree), frame='icrs')\n",
    "### This is the coordinate we are going to focus our search on\n",
    "width = u.Quantity(size + 3, u.arcmin)\n",
    "### This is the width of the box we will search over, it is slightly wider than the size of the cluster\n",
    "height = u.Quantity(size + 3, u.arcmin)\n",
    "### Likewise, this is the height of the box around the coordinate we will search over\n",
    "\n",
    "search = Gaia.query_object_async(coordinate=coord, width=width, height=height) # This is the line where we submit our search for objects in the box we defined around the coordinates we specifed\n",
    "### This will take about several minutes to run!"
   ]
  },
  {
   "cell_type": "markdown",
   "metadata": {
    "id": "6Vd8mv9zPsfC"
   },
   "source": [
    "### Cleaning Data\n",
    "\n",
    "First cleaning by parallax..."
   ]
  },
  {
   "cell_type": "code",
   "execution_count": null,
   "metadata": {
    "id": "sz7HamVUPsfC"
   },
   "outputs": [],
   "source": [
    "### Here, plot the parallax as a histogram with 1000 bins.\n",
    "\n",
    "<<< CALL THE plt.hist FUNCTION TO PLOT A HISTOGRAM WITH 1000 BINS\n",
    "OF THE PARALLAX VALUES FROM THE search VARIABLE >>>\n",
    "\n",
    "plt.xlabel(<<< FILL IN THE X AXIS LABEL >>>)\n",
    "plt.ylabel(<<< FILL IN THE Y AXIS LABEL >>>)\n",
    "\n",
    "plt.xlim(-8,8)\n",
    "plt.show()"
   ]
  },
  {
   "cell_type": "markdown",
   "metadata": {
    "id": "zhFMnRvkPsfC"
   },
   "source": [
    "Looking at the parallax histogram by eye...\n",
    "\n",
    "Between what range do most of the parallaxes fall on the histogram? What is roughly the maximum of this range? What is the minimum?\n",
    "\n",
    "You could choose to be generous or more strict with these choices."
   ]
  },
  {
   "cell_type": "code",
   "execution_count": null,
   "metadata": {
    "id": "aEInE6V6PsfD"
   },
   "outputs": [],
   "source": [
    "min_range = <<< FILL IN THE LOWER LIMIT OF THE RANGE >>>\n",
    "max_range = <<< FILL IN THE UPPER LIMIT OF THE RANGE >>>"
   ]
  },
  {
   "cell_type": "code",
   "execution_count": null,
   "metadata": {
    "id": "uNNrK6PfPsfD"
   },
   "outputs": [],
   "source": [
    "### Here, we are plotting the parallax as a histogram again.\n",
    "\n",
    "<<< CALL THE plt.hist FUNCTION TO PLOT A HISTOGRAM WITH 100 BINS\n",
    "OF THE PARALLAX VALUES FROM THE search VARIABLE >>>\n",
    "\n",
    "plt.xlabel(<<< FILL IN THE X AXIS LABEL >>>)\n",
    "plt.ylabel(<<< FILL IN THE Y AXIS LABEL >>>)\n",
    "\n",
    "\n",
    "### Here, we add vertical lines on the histogram to represent our cut range\n",
    "\n",
    "<<< CALL THE plt.vlines FUNCTION TO PLOT A VERTICAL LINE FOR min_range >>>\n",
    "<<< CALL THE plt.vlines FUNCTION TO PLOT A VERTICAL LINE FOR max_range >>>\n",
    "# for plt.vlines, use these conditions to adjust the appearance of the lines:\n",
    "# ymin=0,ymax=50,color='k',linestyle='--'\n",
    "\n",
    "\n",
    "plt.show()"
   ]
  },
  {
   "cell_type": "markdown",
   "metadata": {
    "id": "5Y3E_IepPsfD"
   },
   "source": [
    "Looking at the parallax histogram from a more quantitative approach...\n",
    "\n",
    "Use the np.mean() and the np.std() functions to find the average and standard deviation of the parallax data:"
   ]
  },
  {
   "cell_type": "code",
   "execution_count": null,
   "metadata": {
    "id": "41qjPoTBPsfD"
   },
   "outputs": [],
   "source": [
    "average_parallax = <<< CALL THE MEAN FUNCTION, INPUT PARALLAX DATA FROM THE search VARIABLE >>>\n",
    "std_parallax = <<< CALL THE STANDARD DEVIATION FUNCTION, INPUT PARALLAX DATA FROM THE search VARIABLE >>>\n",
    "\n",
    "print(\"The average parallax of the globular cluster is\",average_parallax)\n",
    "print(\"The parallax standard deviation of the globular cluster is\",std_parallax)"
   ]
  },
  {
   "cell_type": "markdown",
   "metadata": {
    "id": "QGy0TpqhPsfD"
   },
   "source": [
    "We can use this information to actually choose which data points we want to keep: the stars we think are part of the cluster.\n",
    "\n",
    "Using 3-5 times the standard deviation and the formula below, we will identify the lower and upper limits:\n",
    "$$^{\\textrm{upper}}_{\\textrm{lower}}\\textrm{limit} = \\textrm{average}\\ \\pm\\ N\\times\\textrm{standard_deviation}$$\n",
    "\n",
    "where *N* is the number between 3 and 5."
   ]
  },
  {
   "cell_type": "code",
   "execution_count": null,
   "metadata": {
    "id": "dhymycsCPsfD"
   },
   "outputs": [],
   "source": [
    "### We want data within 3 to 5 times the standard deviations from the mean.\n",
    "lowerlimit = <<< FROM FORMULA ABOVE, FILL IN THE LOWER LIMIT USING average_parallax AND std_parallax>>>\n",
    "upperlimit = <<< FROM FORMULA ABOVE, FILL IN THE UPPER LIMIT USING average_parallax AND std_parallax>>>"
   ]
  },
  {
   "cell_type": "markdown",
   "metadata": {
    "id": "dhPjcjL8PsfE"
   },
   "source": [
    "Let's compare this quantitative cut to the cut we made by eye.\n"
   ]
  },
  {
   "cell_type": "code",
   "execution_count": null,
   "metadata": {
    "id": "jkQa4qE9PsfE"
   },
   "outputs": [],
   "source": [
    "### Here, we are plotting the parallax as a histogram again.\n",
    "\n",
    "<<< CALL THE plt.hist FUNCTION TO PLOT A HISTOGRAM WITH 100 BINS\n",
    "OF THE PARALLAX VALUES FROM THE search VARIABLE >>>\n",
    "\n",
    "plt.xlabel(<<< FILL IN THE X AXIS LABEL >>>)\n",
    "plt.ylabel(<<< FILL IN THE Y AXIS LABEL >>>)\n",
    "\n",
    "\n",
    "### Here, we add vertical lines on the histogram for the cut by eye\n",
    "\n",
    "<<< CALL THE plt.vlines FUNCTION TO PLOT A VERTICAL LINE FOR min_range >>>\n",
    "<<< CALL THE plt.vlines FUNCTION TO PLOT A VERTICAL LINE FOR max_range >>>\n",
    "# for plt.vlines, use these conditions to adjust the appearance of the lines:\n",
    "# ymin=0,ymax=50,color='k',linestyle='--',label='By Eye'\n",
    "\n",
    "\n",
    "### Here, we add vertical lines on the histogram for the quantitative cut\n",
    "\n",
    "<<< CALL THE plt.vlines FUNCTION TO PLOT A VERTICAL LINE FOR lowerlimit >>>\n",
    "<<< CALL THE plt.vlines FUNCTION TO PLOT A VERTICAL LINE FOR upperlimit >>>\n",
    "# for plt.vlines, use these conditions to adjust the appearance of the lines:\n",
    "# ymin=0,ymax=50,color='b',linestyle='--',label='Mean $\\pm$ Standard Deviation'\n",
    "\n",
    "\n",
    "plt.legend()\n",
    "plt.show()"
   ]
  },
  {
   "cell_type": "markdown",
   "metadata": {
    "id": "REXlRczaPsfE"
   },
   "source": [
    "Which do you want to use? The cut by eye or the quantitative cut?"
   ]
  },
  {
   "cell_type": "code",
   "execution_count": null,
   "metadata": {
    "id": "FERFFHApPsfE"
   },
   "outputs": [],
   "source": [
    "cut_up_lim = <<< FILL IN max_range FOR BY EYE, upperlimit FOR QUANTITATIVE >>>\n",
    "cut_low_lim = <<< FILL IN min_range FOR BY EYE, lowerlimit FOR QUANTITATIVE >>>"
   ]
  },
  {
   "cell_type": "markdown",
   "metadata": {
    "id": "ivOwCitHPsfE"
   },
   "source": [
    "Now that we will have cleaned data we will name our data 'cleaned'. We want the cleaned data to be the same as what we called 'search' before but with parallax within our cut range.\n",
    "\n",
    "We want to get the search data whose parallax is below (<=) the upper limit and above (>=) the lower limit..."
   ]
  },
  {
   "cell_type": "code",
   "execution_count": null,
   "metadata": {
    "id": "94x1y9g9PsfE"
   },
   "outputs": [],
   "source": [
    "search_parallax = <<< FILL IN THE PARALLAX VALUES FROM THE search VARIABLE >>>\n",
    "\n",
    "up_cut = <<< FILL IN THE UPPER CUT USING search_parallax AND cut_up_lim >>>\n",
    "low_cut = <<< FILL IN THE LOWER CUT USING search_parallax AND cut_low_lim >>>\n",
    "\n",
    "cleaned = search[(up_cut) & (low_cut)]"
   ]
  },
  {
   "cell_type": "code",
   "execution_count": null,
   "metadata": {
    "id": "EWbdP0SMPsfE"
   },
   "outputs": [],
   "source": [
    "### Now we can plot again to see the cut we made\n",
    "\n",
    "\n",
    "### Here, we are plotting the original parallax as a histogram again.\n",
    "\n",
    "<<< CALL THE plt.hist FUNCTION TO PLOT A HISTOGRAM WITH 100 BINS\n",
    "OF THE PARALLAX VALUES FROM THE search VARIABLE >>>\n",
    "\n",
    "\n",
    "### Here, we are plotting the cleaned parallax as a histogram again.\n",
    "\n",
    "<<< CALL THE plt.hist FUNCTION TO PLOT A HISTOGRAM WITH 100 BINS\n",
    "OF THE PARALLAX VALUES FROM THE cleaned VARIABLE >>>\n",
    "\n",
    "plt.xlabel(<<< FILL IN THE X AXIS LABEL >>>)\n",
    "plt.ylabel(<<< FILL IN THE Y AXIS LABEL >>>)\n",
    "\n",
    "plt.xlim(-8,8)\n",
    "plt.ylim(0,50)\n",
    "\n",
    "### Here, we add vertical lines on the histogram for the cut\n",
    "\n",
    "<<< CALL THE plt.vlines FUNCTION TO PLOT A VERTICAL LINE FOR cut_low_lim >>>\n",
    "<<< CALL THE plt.vlines FUNCTION TO PLOT A VERTICAL LINE FOR cut_up_lim >>>\n",
    "# for plt.vlines, use these conditions to adjust the appearance of the lines:\n",
    "# ymin=0,ymax=50,color='b',linestyle='--'\n",
    "\n",
    "plt.legend()\n",
    "plt.show()"
   ]
  },
  {
   "cell_type": "markdown",
   "metadata": {
    "id": "UBXnSsD1PsfF"
   },
   "source": [
    "We have selected stars that have parallax (i.e. distance) similar to the globular cluster!\n",
    "\n",
    "Now cleaning the proper motions..."
   ]
  },
  {
   "cell_type": "code",
   "execution_count": null,
   "metadata": {
    "id": "2OmyQONcPsfF"
   },
   "outputs": [],
   "source": [
    "### Here, we make a plot of the proper motion in the declination vs. in the right ascension\n",
    "\n",
    "<<< CALL THE plt.plot FUNCTION TO PLOT THE PROPER MOTIONS IN\n",
    "DECLINATION (X AXIS) AND RIGHT ASCENSION (Y AXIS)\n",
    "FROM THE cleaned VARIABLE >>>\n",
    "# for plt.plot, use these conditions to adjust the appearance of the plot:\n",
    "# marker='.',linestyle = '',color='k'\n",
    "\n",
    "plt.xlabel(<<< FILL IN THE X AXIS LABEL >>>)\n",
    "plt.ylabel(<<< FILL IN THE Y AXIS LABEL >>>)\n",
    "\n",
    "plt.show()"
   ]
  },
  {
   "cell_type": "markdown",
   "metadata": {
    "id": "WuJwNbZMPsfF"
   },
   "source": [
    "Looking at the proper motion plot by eye...\n",
    "\n",
    "Between what range do most of the data points fall? What is roughly the maximum of this range on the declination? What is the minimum? How about for the right ascension?\n",
    "\n",
    "You could choose to be generous or more strict with these choices."
   ]
  },
  {
   "cell_type": "code",
   "execution_count": null,
   "metadata": {
    "id": "5lxKWT7cPsfF"
   },
   "outputs": [],
   "source": [
    "### For the declination...\n",
    "min_dec_pm_range = <<< FILL IN THE LOWER LIMIT OF THE RANGE >>>\n",
    "max_dec_pm_range = <<< FILL IN THE UPPER LIMIT OF THE RANGE >>>\n",
    "\n",
    "### For the right ascension...\n",
    "min_ra_pm_range = <<< FILL IN THE LOWER LIMIT OF THE RANGE >>>\n",
    "max_ra_pm_range = <<< FILL IN THE UPPER LIMIT OF THE RANGE >>>"
   ]
  },
  {
   "cell_type": "code",
   "execution_count": null,
   "metadata": {
    "id": "Fz7Hc1aNPsfF"
   },
   "outputs": [],
   "source": [
    "### Here, we make the proper motion plot again\n",
    "\n",
    "<<< CALL THE plt.plot FUNCTION TO PLOT THE PROPER MOTIONS IN\n",
    "DECLINATION (X AXIS) AND RIGHT ASCENSION (Y AXIS)\n",
    "FROM THE cleaned VARIABLE >>>\n",
    "# for plt.plot, use these conditions to adjust the appearance of the plot:\n",
    "# marker='.',linestyle = '',color='k'\n",
    "\n",
    "plt.xlabel(<<< FILL IN THE X AXIS LABEL >>>)\n",
    "plt.ylabel(<<< FILL IN THE Y AXIS LABEL >>>)\n",
    "\n",
    "\n",
    "### Add vertical lines to represent our cut range for the declination proper motion\n",
    "\n",
    "<<< CALL THE plt.vlines FUNCTION TO PLOT A VERTICAL LINE FOR min_dec_pm_range >>>\n",
    "<<< CALL THE plt.vlines FUNCTION TO PLOT A VERTICAL LINE FOR max_dec_pm_range >>>\n",
    "# for plt.vlines, use these conditions to adjust the appearance of the lines:\n",
    "# ymin=-350,ymax=60,color='k',linestyle='--'\n",
    "\n",
    "\n",
    "### Add horizontal lines to represent our cut range for the right ascension proper motion\n",
    "\n",
    "<<< CALL THE plt.hlines FUNCTION TO PLOT A HORIZONTAL LINE FOR min_ra_pm_range >>>\n",
    "<<< CALL THE plt.hlines FUNCTION TO PLOT A HORIZONTAL LINE FOR max_ra_pm_range >>>\n",
    "# for plt.vlines, use these conditions to adjust the appearance of the lines:\n",
    "# xmin=-350,xmax=110,color='k',linestyle='--'\n",
    "\n",
    "\n",
    "plt.legend()\n",
    "plt.show()"
   ]
  },
  {
   "cell_type": "markdown",
   "metadata": {
    "id": "i-kR2qcePsfF"
   },
   "source": [
    "Looking at the proper motions from a more quantitative approach...\n",
    "\n",
    "Use the np.mean() and the np.std() functions to find the average and standard deviation of the proper motion data:"
   ]
  },
  {
   "cell_type": "code",
   "execution_count": null,
   "metadata": {
    "id": "L33JvIUaPsfF"
   },
   "outputs": [],
   "source": [
    "### For the declination...\n",
    "average_pmdec = <<< CALL THE MEAN FUNCTION, INPUT DEC PROPER MOTION DATA FROM THE cleaned VARIABLE >>>\n",
    "std_pmdec = <<< CALL THE STANDARD DEVIATION FUNCTION, INPUT DEC PROPER MOTION DATA FROM THE cleaned VARIABLE >>>\n",
    "\n",
    "### For the right ascension...\n",
    "average_pmra = <<< CALL THE MEAN FUNCTION, INPUT RA PROPER MOTION DATA FROM THE cleaned VARIABLE >>>\n",
    "std_pmra = <<< CALL THE STANDARD DEVIATION FUNCTION, INPUT RA PROPER MOTION DATA FROM THE cleaned VARIABLE >>>"
   ]
  },
  {
   "cell_type": "markdown",
   "metadata": {
    "id": "jRGAEL8ZPsfG"
   },
   "source": [
    "Again, using 3 to 5 times the standard deviation, we can pick out the data points around the average. Identidy the lower and upper limits using:\n",
    "\n",
    "$$^{\\textrm{upper}}_{\\textrm{lower}}\\textrm{limit} = \\textrm{average}\\ \\pm\\ N\\times\\textrm{standard_deviation}$$\n",
    "\n",
    "where *N* is the number between 3 and 5.\n"
   ]
  },
  {
   "cell_type": "code",
   "execution_count": null,
   "metadata": {
    "id": "vFVpWS4uPsfG"
   },
   "outputs": [],
   "source": [
    "### We want data within 3 to 5 times the standard deviations from the mean.\n",
    "\n",
    "### For the declination...\n",
    "lowerlimit_dec = <<< FROM FORMULA ABOVE, FILL IN THE LOWER LIMIT USING average_pmdec AND std_pmdec >>>\n",
    "upperlimit_dec = <<< FROM FORMULA ABOVE, FILL IN THE UPPER LIMIT USING average_pmdec AND std_pmdec >>>\n",
    "\n",
    "### For the right ascension...\n",
    "lowerlimit_ra = <<< FROM FORMULA ABOVE, FILL IN THE LOWER LIMIT USING average_pmra AND std_pmra >>>\n",
    "upperlimit_ra = <<< FROM FORMULA ABOVE, FILL IN THE UPPER LIMIT USING average_pmra AND std_pmra >>>"
   ]
  },
  {
   "cell_type": "markdown",
   "metadata": {
    "id": "2aBi8K0aPsfG"
   },
   "source": [
    "Let's compare this quantitative cut to the cut we made by eye."
   ]
  },
  {
   "cell_type": "code",
   "execution_count": null,
   "metadata": {
    "id": "whL23lLePsfG"
   },
   "outputs": [],
   "source": [
    "### Here, we make the proper motion plot again\n",
    "\n",
    "<<< CALL THE plt.plot FUNCTION TO PLOT THE PROPER MOTIONS IN\n",
    "DECLINATION (X AXIS) AND RIGHT ASCENSION (Y AXIS)\n",
    "FROM THE cleaned VARIABLE >>>\n",
    "# for plt.plot, use these conditions to adjust the appearance of the plot:\n",
    "# marker='.',linestyle = '',color='k'\n",
    "\n",
    "plt.xlabel(<<< FILL IN THE X AXIS LABEL >>>)\n",
    "plt.ylabel(<<< FILL IN THE Y AXIS LABEL >>>)\n",
    "\n",
    "\n",
    "\n",
    "### Cut by eye...\n",
    "\n",
    "### Add vertical lines for our cut by eye for the declination proper motion\n",
    "\n",
    "<<< CALL THE plt.vlines FUNCTION TO PLOT A VERTICAL LINE FOR min_dec_pm_range >>>\n",
    "<<< CALL THE plt.vlines FUNCTION TO PLOT A VERTICAL LINE FOR max_dec_pm_range >>>\n",
    "# for plt.vlines, use these conditions to adjust the appearance of the lines:\n",
    "# ymin=-350,ymax=60,color='k',linestyle='--'\n",
    "\n",
    "\n",
    "### Add horizontal lines for our cut by eye for the right ascension proper motion\n",
    "\n",
    "<<< CALL THE plt.hlines FUNCTION TO PLOT A HORIZONTAL LINE FOR min_ra_pm_range >>>\n",
    "<<< CALL THE plt.hlines FUNCTION TO PLOT A HORIZONTAL LINE FOR max_ra_pm_range >>>\n",
    "# for plt.hlines, use these conditions to adjust the appearance of the lines:\n",
    "# xmin=-350,xmax=110,color='k',linestyle='--',label='By Eye'\n",
    "\n",
    "\n",
    "\n",
    "### Quantitatively cut...\n",
    "\n",
    "### Add vertical lines for our quantitative cut for the declination proper motion\n",
    "\n",
    "<<< CALL THE plt.vlines FUNCTION TO PLOT A VERTICAL LINE FOR lowerlimit_dec >>>\n",
    "<<< CALL THE plt.vlines FUNCTION TO PLOT A VERTICAL LINE FOR upperlimit_dec >>>\n",
    "# for plt.vlines, use these conditions to adjust the appearance of the lines:\n",
    "# ymin=-350,ymax=60,color='k',linestyle='--'\n",
    "\n",
    "\n",
    "### Add horizontal lines for our quantitative cut for the right ascension proper motion\n",
    "\n",
    "<<< CALL THE plt.hlines FUNCTION TO PLOT A HORIZONTAL LINE FOR lowerlimit_ra >>>\n",
    "<<< CALL THE plt.hlines FUNCTION TO PLOT A HORIZONTAL LINE FOR upperlimit_ra >>>\n",
    "# for plt.hlines, use these conditions to adjust the appearance of the lines:\n",
    "# xmin=-350,xmax=110,color='k',linestyle='--',label='Mean $\\pm$ Standard Deviation'\n",
    "\n",
    "\n",
    "plt.legend()\n",
    "plt.show()"
   ]
  },
  {
   "cell_type": "markdown",
   "metadata": {
    "id": "nShG6gxsPsfG"
   },
   "source": [
    "Which do you want to use? The cut by eye or the quantitative cut?"
   ]
  },
  {
   "cell_type": "code",
   "execution_count": null,
   "metadata": {
    "id": "Q6zP99BoPsfG"
   },
   "outputs": [],
   "source": [
    "### For the declination...\n",
    "cut_uplim_dec = <<< FILL IN max_dec_pm_range FOR BY EYE, upperlimit_dec FOR QUANTITATIVE >>>\n",
    "cut_lowlim_dec = <<< FILL IN min_dec_pm_range FOR BY EYE, lowerlimit_dec FOR QUANTITATIVE >>>\n",
    "\n",
    "### For the right ascension...\n",
    "cut_uplim_ra = <<< FILL IN max_ra_pm_range FOR BY EYE, upperlimit_ra FOR QUANTITATIVE >>>\n",
    "cut_lowlim_ra = <<< FILL IN min_ra_pm_range FOR BY EYE, lowerlimit_ra FOR QUANTITATIVE >>>"
   ]
  },
  {
   "cell_type": "markdown",
   "metadata": {
    "id": "7cG2xgwRPsfG"
   },
   "source": [
    "Now that we will cut our 'cleaned' data even more using these proper motions cuts.\n",
    "\n",
    "We want to get the data whose proper motions are below (<=) the upper limits and above (>=) the lower limits..."
   ]
  },
  {
   "cell_type": "code",
   "execution_count": null,
   "metadata": {
    "id": "proKnW82PsfH"
   },
   "outputs": [],
   "source": [
    "### For the declination...\n",
    "cleaned = cleaned[<<< FILL IN THE DEC PROPER MOTION FROM THE cleaned VARIABLE >>> <= cut_uplim_dec]\n",
    "cleaned = cleaned[<<< FILL IN THE DEC PROPER MOTION FROM THE cleaned VARIABLE >>> >= cut_lowlim_dec]\n",
    "\n",
    "### For the right ascension...\n",
    "cleaned = cleaned[<<< FILL IN THE RA PROPER MOTION FROM THE cleaned VARIABLE >>> <= cut_uplim_ra]\n",
    "cleaned = cleaned[<<< FILL IN THE RA PROPER MOTION FROM THE cleaned VARIABLE >>> >= cut_lowlim_ra]"
   ]
  },
  {
   "cell_type": "markdown",
   "metadata": {
    "id": "C79255yYPsfH"
   },
   "source": [
    "Now let's compare this final cleaned data to our original search data..."
   ]
  },
  {
   "cell_type": "code",
   "execution_count": null,
   "metadata": {
    "id": "X9gh0ew1PsfH"
   },
   "outputs": [],
   "source": [
    "### Here, we plot the original proper motions from the 'search' data\n",
    "\n",
    "<<< CALL THE plt.plot FUNCTION TO PLOT THE PROPER MOTIONS IN\n",
    "DECLINATION (X AXIS) AND RIGHT ASCENSION (Y AXIS)\n",
    "FROM THE search VARIABLE >>>\n",
    "# for plt.plot, use these conditions to adjust the appearance of the plot:\n",
    "# marker='.',linestyle = '',color='k'\n",
    "\n",
    "\n",
    "### Here, we plot the cleaned proper motions from the 'cleaned' data\n",
    "\n",
    "<<< CALL THE plt.plot FUNCTION TO PLOT THE PROPER MOTIONS IN\n",
    "DECLINATION (X AXIS) AND RIGHT ASCENSION (Y AXIS)\n",
    "FROM THE cleaned VARIABLE >>>\n",
    "# for plt.plot, use these conditions to adjust the appearance of the plot:\n",
    "# marker='.',linestyle = '',color='b',label='Cleaned'\n",
    "\n",
    "\n",
    "plt.xlabel(<<< FILL IN THE X AXIS LABEL >>>)\n",
    "plt.ylabel(<<< FILL IN THE Y AXIS LABEL >>>)\n",
    "\n",
    "plt.legend()\n",
    "plt.show()"
   ]
  },
  {
   "cell_type": "markdown",
   "metadata": {
    "id": "Ewhc5j-oPsfH"
   },
   "source": [
    "Now you have your set of cleaned data, meaning you are more confident that your data only includes stars that are in the cluster you selected. Next we estimate the age, but first some introduction on how that is done!"
   ]
  },
  {
   "cell_type": "markdown",
   "metadata": {
    "id": "LObecukcPsfH"
   },
   "source": [
    "### Make your HR Diagram\n",
    "\n",
    "In this section, you will make an HR diagram for your globular cluster and locate its turnoff point.\n",
    "\n",
    "For your HR diagram, the Y axis will be measures apparent magnitude - this is the intrinsic brightness of the stars - and the X axis will be the colour - specifically, what we call the G-R colour.\n",
    "\n",
    "Using the numpy log function (np.log10), find the brightness (also known as absolute magnitude, *M*) of the stars using their apparent magnitude (*m*) and the parallax (*p*) by employing this formula:\n",
    "\n",
    "$$M = m - 5\\times\\log\\left({\\frac{100}{p}}\\right)$$"
   ]
  },
  {
   "cell_type": "markdown",
   "metadata": {
    "id": "1OAw6DkBPsfH"
   },
   "source": [
    "Recall the ```get_mag_plx_color``` function from above:\n",
    "\n",
    "\n",
    "```\n",
    "apparent_magnitude, parallax, colour = get_mag_plx_color(catalog)\n",
    "```\n",
    "\n",
    "Call this function with the 'cleaned' data catalog to yield the apparent magnitude (m), parallax (p) and colour:"
   ]
  },
  {
   "cell_type": "code",
   "execution_count": null,
   "metadata": {
    "id": "se0Jr11BPsfH"
   },
   "outputs": [],
   "source": [
    "m, p, colour = <<< CALL THE get_mag_plx_color FUNCTION WITH THE cleaned DATA >>>"
   ]
  },
  {
   "cell_type": "markdown",
   "metadata": {
    "id": "me90dG79PsfI"
   },
   "source": [
    "Recall the function for the absolute magnitude ```abs_mag```.\n",
    "Write your own formula like this either by defining a function or assigning a variable to yield the absolute magnitude (M) from the  apparent magnitude (m) and parallax (p):"
   ]
  },
  {
   "cell_type": "code",
   "execution_count": null,
   "metadata": {
    "id": "PAh6xsulPsfI"
   },
   "outputs": [],
   "source": [
    "M = <<< YOUR OWN FORMULA FOR ABSOLUTE MAGNITUDE >>>"
   ]
  },
  {
   "cell_type": "markdown",
   "metadata": {
    "id": "48iUar-7PsfI"
   },
   "source": [
    "Plot the HR diagram:"
   ]
  },
  {
   "cell_type": "code",
   "execution_count": null,
   "metadata": {
    "id": "uKAZAGNFPsfI"
   },
   "outputs": [],
   "source": [
    "plt.figure(figsize=(6,6), dpi=100) #creates the figure, sets the size and the quality\n",
    "\n",
    "### Plotting the absolute magnitude vs. the colour\n",
    "\n",
    "<<< CALL THE plt.plot FUNCTION TO PLOT\n",
    "THE COLOUR (X AXIS) AND THE ABSOLUTE MAGNITUDE (Y AXIS) >>>\n",
    "# for plt.plot, use these conditions to adjust the appearance of the plot:\n",
    "# color = 'black', linestyle = '', marker = '.', markersize = 1\n",
    "\n",
    "plt.xlabel(<<< FILL IN X AXIS LABEL >>>)\n",
    "plt.ylabel(<<< FILL IN Y AXIS LABEL >>>)\n",
    "plt.title('H-R Diagram for Pal 5')\n",
    "\n",
    "plt.gca().invert_yaxis()  # this inverts the y axis\n",
    "plt.show()"
   ]
  },
  {
   "cell_type": "markdown",
   "metadata": {
    "id": "GdhiNDg8PsfI"
   },
   "source": [
    "### Where is the turnoff point on your HR Diagram?\n",
    "\n",
    "Can you find the turnoff point of the globular cluster on your HR diagram? If you are having trouble finding it, try this:\n",
    " - if there are **too few points**, go back to where you query the data and make the the box you're looking within bigger by **increasing the height and width** or be less strict when you are cleaning your data.\n",
    " - if there are **too many points**, go back to where you query the data and make the the box you're looking within smaller by **decreasing the height and width** or be more strict when you are cleaning your data."
   ]
  },
  {
   "cell_type": "markdown",
   "metadata": {
    "id": "x5HAw4SSPsfI"
   },
   "source": [
    "After examining this H-R diagram by eye, where does the turn off point seem to be? What are the approximate colour and magnitude values of this point?"
   ]
  },
  {
   "cell_type": "code",
   "execution_count": null,
   "metadata": {
    "id": "9i74bQ01PsfI"
   },
   "outputs": [],
   "source": [
    "TurnOff_colour = <<< FILL IN THE APPROX. COLOUR VALUE OF THE TURN OFF POINT >>>\n",
    "TurnOff_absM = <<< FILL IN THE APPROX. MAGNITUDE VALUE OF THE TURN OFF POINT >>>"
   ]
  },
  {
   "cell_type": "code",
   "execution_count": null,
   "metadata": {
    "id": "Wqkb2kf-PsfJ"
   },
   "outputs": [],
   "source": [
    "plt.figure(figsize=(6,6), dpi=100) #creates the figure, sets the size and the quality\n",
    "\n",
    "### Plotting the absolute magnitude vs. the colour\n",
    "\n",
    "<<< CALL THE plt.plot FUNCTION TO PLOT\n",
    "COLOUR (X AXIS) AND THE ABSOLUTE MAGNITUDE (Y AXIS) >>>\n",
    "# for plt.plot, use these conditions to adjust the appearance of the plot:\n",
    "# color = 'black', linestyle = '', marker = '.', markersize = 1\n",
    "\n",
    "plt.xlabel(<<< FILL IN X AXIS LABEL >>>)\n",
    "plt.ylabel(<<< FILL IN Y AXIS LABEL >>>)\n",
    "plt.title('H-R Diagram for Pal 5')\n",
    "\n",
    "\n",
    "\n",
    "<<< CALL THE plt.plot FUNCTION TO PLOT THE TURNOFF POINT USING\n",
    "THE TURNOFF COLOUR (X AXIS) AND TURNOFF MAGNITUDE (Y AXIS) >>>\n",
    "# for plt.plot, use these conditions to adjust the appearance of the plot:\n",
    "# marker='s',color='r',ms='5',linestyle='',label='Possible Turnoff Point'\n",
    "\n",
    "\n",
    "plt.legend()\n",
    "plt.gca().invert_yaxis()  # this inverts the y axis\n",
    "plt.show()\n"
   ]
  },
  {
   "cell_type": "markdown",
   "metadata": {
    "id": "zCUxLC1rPsfJ"
   },
   "source": [
    "### Match Your Turnoff Point to a Star Classification\n",
    "Match the turnoff point you found above to its corresponding stellar classification from Table 2.\n",
    "\n",
    "---\n",
    "*Recall Table 2*:\n",
    "\n",
    "| Spectral Class     | Apparent Colour      | G-R Colour\t     | Luminosity*\t| Temperature**\t     | Turnoff Age\t     |\n",
    "|----------|-----------|-----------|------|---------|-----------|\n",
    "| O | Blue          | -1.0 to -0.5  | > 30,000      | > 30,000      | < 40 million years |\n",
    "| B | Light Blue    | -0.5 to -0.3  | 25,000–30,000 | 10,000–30,000 | 40 million–2.3 billion years |\n",
    "| A | White         | -0.2 to 0.2   | 5-25          | 7,500–10,000  | 2.3–5.1 billion years |\n",
    "| F | Light Yellow  | 0.2 to 0.3    | 1.5-5         | 6,000–7,500   | 5.1–9.3 billion years |\n",
    "| G | Yellow        | 0.3 to 0.6    | 0.6-1.5       | 5,200–6,000   | 9.3–15.6 billion years |\n",
    "| K | Orange        | 0.6 to 1.4    | 0.08-0.6      | 3,700–5,200   | 15.6–49.4 billion years |\n",
    "| M | Red           | 1.4 to 2.0    | < 0.08        | 2,400–3,700   | >49.4 billion years |\n",
    "\n",
    "**Table (2)**. Characteristics of stars in the seven spectral classes. Credit: Carmichael, Romanowsky, & Brodie (2020).\n",
    "\n",
    "\\*The number of times brighter than the Sun.\n",
    "\\**In degrees Kelvin (= Celsius + 273)\n",
    "\n",
    "---\n"
   ]
  },
  {
   "cell_type": "markdown",
   "metadata": {
    "id": "HUloXKIPPsfJ"
   },
   "source": [
    "From the H-R Diagram for globular cluster Pal 5, what was the colour at the possible turn-off point? Find the matching colour in Table 2 under the G-R Colour in Table 2. Follow across that row to get the Turnoff Age.\n",
    "\n",
    "What is the maximum possible turnoff age of this cluster from the table?"
   ]
  },
  {
   "cell_type": "code",
   "execution_count": null,
   "metadata": {
    "id": "8cXtdP5sPsfJ"
   },
   "outputs": [],
   "source": [
    "max_age_Pal5 = <<< FILL IN THE TURNOFF AGE >>> # in units of billion years"
   ]
  },
  {
   "cell_type": "markdown",
   "metadata": {
    "id": "U96l6VjtbUtu"
   },
   "source": [
    "---\n",
    "---\n",
    "\n",
    "# What is the age of the universe?"
   ]
  },
  {
   "cell_type": "code",
   "execution_count": null,
   "metadata": {
    "id": "NYdlGPVxbcOh"
   },
   "outputs": [],
   "source": [
    "print('Age of M22', max_age_M22)\n",
    "print('Age of M92', max_age_M92)\n",
    "print('Age of Pal 5', max_age_Pal5)"
   ]
  },
  {
   "cell_type": "markdown",
   "metadata": {
    "id": "mHDSIqcXb8wC"
   },
   "source": [
    "From the ages of these globular clusters, what can you say about the age of the universe? Have they given you a concrete answer about the age?"
   ]
  },
  {
   "cell_type": "code",
   "execution_count": null,
   "metadata": {
    "id": "ndCwDF7RcAPx"
   },
   "outputs": [],
   "source": [
    "age_of_universe = <<< FILL IN THE AGE OF THE UNIVERSE YOU DETERMINED >>>"
   ]
  }
 ],
 "metadata": {
  "colab": {
   "provenance": []
  },
  "kernelspec": {
   "display_name": "Python 3 (ipykernel)",
   "language": "python",
   "name": "python3"
  },
  "language_info": {
   "codemirror_mode": {
    "name": "ipython",
    "version": 3
   },
   "file_extension": ".py",
   "mimetype": "text/x-python",
   "name": "python",
   "nbconvert_exporter": "python",
   "pygments_lexer": "ipython3",
   "version": "3.10.6"
  }
 },
 "nbformat": 4,
 "nbformat_minor": 1
}
